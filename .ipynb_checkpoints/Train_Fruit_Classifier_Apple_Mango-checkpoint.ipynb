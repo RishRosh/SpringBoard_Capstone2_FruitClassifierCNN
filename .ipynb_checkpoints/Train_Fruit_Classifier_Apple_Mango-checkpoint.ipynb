{
 "cells": [
  {
   "cell_type": "code",
   "execution_count": 1,
   "metadata": {},
   "outputs": [
    {
     "name": "stderr",
     "output_type": "stream",
     "text": [
      "Using TensorFlow backend.\n"
     ]
    }
   ],
   "source": [
    "import keras\n",
    "from keras.models import Sequential\n",
    "from keras.layers import Dense, Dropout, Flatten\n",
    "from keras.layers import Conv2D, MaxPooling2D\n",
    "from keras.utils import to_categorical\n",
    "from keras.preprocessing import image\n",
    "import numpy as np\n",
    "import pandas as pd\n",
    "import matplotlib.pyplot as plt\n",
    "from sklearn.model_selection import train_test_split\n",
    "from keras.utils import to_categorical\n",
    "from tqdm import tqdm"
   ]
  },
  {
   "cell_type": "code",
   "execution_count": 3,
   "metadata": {},
   "outputs": [],
   "source": [
    "root_dir = 'H:\\\\DataScience\\\\Cap2\\\\'\n",
    "apl_mgo_csv = root_dir + 'train.csv'\n",
    "train = pd.read_csv(apl_mgo_csv)"
   ]
  },
  {
   "cell_type": "code",
   "execution_count": 4,
   "metadata": {},
   "outputs": [
    {
     "data": {
      "text/html": [
       "<div>\n",
       "<style scoped>\n",
       "    .dataframe tbody tr th:only-of-type {\n",
       "        vertical-align: middle;\n",
       "    }\n",
       "\n",
       "    .dataframe tbody tr th {\n",
       "        vertical-align: top;\n",
       "    }\n",
       "\n",
       "    .dataframe thead th {\n",
       "        text-align: right;\n",
       "    }\n",
       "</style>\n",
       "<table border=\"1\" class=\"dataframe\">\n",
       "  <thead>\n",
       "    <tr style=\"text-align: right;\">\n",
       "      <th></th>\n",
       "      <th>id</th>\n",
       "      <th>label</th>\n",
       "    </tr>\n",
       "  </thead>\n",
       "  <tbody>\n",
       "    <tr>\n",
       "      <th>0</th>\n",
       "      <td>1</td>\n",
       "      <td>1</td>\n",
       "    </tr>\n",
       "    <tr>\n",
       "      <th>1</th>\n",
       "      <td>10</td>\n",
       "      <td>1</td>\n",
       "    </tr>\n",
       "    <tr>\n",
       "      <th>2</th>\n",
       "      <td>100</td>\n",
       "      <td>1</td>\n",
       "    </tr>\n",
       "    <tr>\n",
       "      <th>3</th>\n",
       "      <td>101</td>\n",
       "      <td>1</td>\n",
       "    </tr>\n",
       "    <tr>\n",
       "      <th>4</th>\n",
       "      <td>102</td>\n",
       "      <td>1</td>\n",
       "    </tr>\n",
       "  </tbody>\n",
       "</table>\n",
       "</div>"
      ],
      "text/plain": [
       "    id  label\n",
       "0    1      1\n",
       "1   10      1\n",
       "2  100      1\n",
       "3  101      1\n",
       "4  102      1"
      ]
     },
     "execution_count": 4,
     "metadata": {},
     "output_type": "execute_result"
    }
   ],
   "source": [
    "train.head()"
   ]
  },
  {
   "cell_type": "code",
   "execution_count": 5,
   "metadata": {},
   "outputs": [
    {
     "name": "stderr",
     "output_type": "stream",
     "text": [
      "  0%|                                                  | 0/554 [00:00<?, ?it/s]C:\\Users\\Rishi\\Anaconda3\\envs\\tf\\lib\\site-packages\\keras_preprocessing\\image\\utils.py:98: UserWarning: grayscale is deprecated. Please use color_mode = \"grayscale\"\n",
      "  warnings.warn('grayscale is deprecated. Please use '\n",
      "100%|███████████████████████████████████████| 554/554 [00:01<00:00, 297.37it/s]\n"
     ]
    }
   ],
   "source": [
    "# We have grayscale images, so while loading the images we will keep grayscale=True, if you have RGB images, you should set grayscale as False\n",
    "train_image = []\n",
    "for i in tqdm(range(train.shape[0])):\n",
    "# for i in tqdm(range(1000)):\n",
    "#     img = image.load_img('train/'+train['id'][i].astype('str')+'.png', target_size=(28,28,1), grayscale=True) # Load the images\n",
    "    img = image.load_img(root_dir + 'train_set\\\\'+train['id'][i].astype('str')+'.jpg', target_size=(100,100,1), grayscale=True) # Load the images\n",
    "    img = image.img_to_array(img) # Convert to arrays\n",
    "    img = img/255 # Normalize the values as they are in greyscale 2 ^ 8 = 256. If in color, 256*256*256? No. Numpy applies it across 3 channels\n",
    "    train_image.append(img) # Append the list\n",
    "X = np.array(train_image)"
   ]
  },
  {
   "cell_type": "code",
   "execution_count": 6,
   "metadata": {},
   "outputs": [],
   "source": [
    "y=train['label'].values\n",
    "y = to_categorical(y)\n"
   ]
  },
  {
   "cell_type": "code",
   "execution_count": 7,
   "metadata": {},
   "outputs": [],
   "source": [
    "X_train, X_test, y_train, y_test = train_test_split(X, y, random_state=42, test_size=0.2)"
   ]
  },
  {
   "cell_type": "code",
   "execution_count": 10,
   "metadata": {},
   "outputs": [
    {
     "data": {
      "text/plain": [
       "(443, 100, 100, 1)"
      ]
     },
     "execution_count": 10,
     "metadata": {},
     "output_type": "execute_result"
    }
   ],
   "source": [
    "X_train.shape\n"
   ]
  },
  {
   "cell_type": "code",
   "execution_count": 6,
   "metadata": {},
   "outputs": [
    {
     "name": "stdout",
     "output_type": "stream",
     "text": [
      "WARNING:tensorflow:From C:\\Users\\Rishi\\Anaconda3\\envs\\tf\\lib\\site-packages\\tensorflow\\python\\framework\\op_def_library.py:263: colocate_with (from tensorflow.python.framework.ops) is deprecated and will be removed in a future version.\n",
      "Instructions for updating:\n",
      "Colocations handled automatically by placer.\n",
      "WARNING:tensorflow:From C:\\Users\\Rishi\\Anaconda3\\envs\\tf\\lib\\site-packages\\keras\\backend\\tensorflow_backend.py:3445: calling dropout (from tensorflow.python.ops.nn_ops) with keep_prob is deprecated and will be removed in a future version.\n",
      "Instructions for updating:\n",
      "Please use `rate` instead of `keep_prob`. Rate should be set to `rate = 1 - keep_prob`.\n"
     ]
    }
   ],
   "source": [
    "# model from CNN cheatsheet\n",
    "model = Sequential()\n",
    "model.add(Conv2D(32, kernel_size=(3, 3),activation='relu',input_shape=(100,100,1), padding='same'))\n",
    "model.add(Conv2D(32, (3, 3), activation='relu'))\n",
    "model.add(MaxPooling2D(pool_size=(2, 2)))\n",
    "model.add(Dropout(0.25))\n",
    "model.add(Conv2D(64, (3, 3), activation='relu', padding='same'))\n",
    "model.add(Conv2D(64, (3, 3), activation='relu'))\n",
    "model.add(MaxPooling2D(pool_size=(2, 2)))\n",
    "model.add(Dropout(0.25))\n",
    "model.add(Flatten())\n",
    "model.add(Dense(512, activation='relu'))\n",
    "model.add(Dropout(0.5))\n",
    "model.add(Dense(2, activation='softmax'))"
   ]
  },
  {
   "cell_type": "code",
   "execution_count": 7,
   "metadata": {},
   "outputs": [],
   "source": [
    "from keras.callbacks import ModelCheckpoint\n",
    "checkpoint = ModelCheckpoint('weights_cap2_cv2.hdf5', monitor='val_loss', save_best_only=True)\n",
    "callbacks_list = [checkpoint]"
   ]
  },
  {
   "cell_type": "code",
   "execution_count": 8,
   "metadata": {},
   "outputs": [],
   "source": [
    "model.compile(loss='categorical_crossentropy',optimizer='adam',metrics=['accuracy'])"
   ]
  },
  {
   "cell_type": "code",
   "execution_count": 9,
   "metadata": {},
   "outputs": [
    {
     "name": "stdout",
     "output_type": "stream",
     "text": [
      "WARNING:tensorflow:From C:\\Users\\Rishi\\Anaconda3\\envs\\tf\\lib\\site-packages\\tensorflow\\python\\ops\\math_ops.py:3066: to_int32 (from tensorflow.python.ops.math_ops) is deprecated and will be removed in a future version.\n",
      "Instructions for updating:\n",
      "Use tf.cast instead.\n",
      "Train on 443 samples, validate on 111 samples\n",
      "Epoch 1/10\n",
      "443/443 [==============================] - ETA: 42s - loss: 0.7069 - acc: 0.40 - ETA: 29s - loss: 3.3615 - acc: 0.50 - ETA: 24s - loss: 2.4122 - acc: 0.58 - ETA: 21s - loss: 2.1029 - acc: 0.52 - ETA: 18s - loss: 1.8204 - acc: 0.53 - ETA: 15s - loss: 1.6780 - acc: 0.53 - ETA: 13s - loss: 1.5753 - acc: 0.51 - ETA: 11s - loss: 1.4597 - acc: 0.54 - ETA: 9s - loss: 1.3737 - acc: 0.5486 - ETA: 7s - loss: 1.3050 - acc: 0.550 - ETA: 5s - loss: 1.2480 - acc: 0.556 - ETA: 3s - loss: 1.2011 - acc: 0.559 - ETA: 1s - loss: 1.1607 - acc: 0.560 - 27s 62ms/step - loss: 1.1324 - acc: 0.5576 - val_loss: 0.6527 - val_acc: 0.6126\n",
      "Epoch 2/10\n",
      "443/443 [==============================] - ETA: 22s - loss: 0.6695 - acc: 0.50 - ETA: 21s - loss: 0.6498 - acc: 0.62 - ETA: 19s - loss: 0.6691 - acc: 0.57 - ETA: 18s - loss: 0.6797 - acc: 0.55 - ETA: 16s - loss: 0.6611 - acc: 0.60 - ETA: 14s - loss: 0.6537 - acc: 0.61 - ETA: 12s - loss: 0.6501 - acc: 0.62 - ETA: 10s - loss: 0.6509 - acc: 0.61 - ETA: 8s - loss: 0.6518 - acc: 0.6111 - ETA: 6s - loss: 0.6554 - acc: 0.600 - ETA: 5s - loss: 0.6412 - acc: 0.622 - ETA: 3s - loss: 0.6348 - acc: 0.630 - ETA: 1s - loss: 0.6295 - acc: 0.639 - 27s 60ms/step - loss: 0.6202 - acc: 0.6501 - val_loss: 0.5872 - val_acc: 0.6847\n",
      "Epoch 3/10\n",
      "443/443 [==============================] - ETA: 21s - loss: 0.5238 - acc: 0.78 - ETA: 20s - loss: 0.5046 - acc: 0.79 - ETA: 18s - loss: 0.5031 - acc: 0.79 - ETA: 17s - loss: 0.4864 - acc: 0.78 - ETA: 15s - loss: 0.4648 - acc: 0.80 - ETA: 13s - loss: 0.4586 - acc: 0.81 - ETA: 12s - loss: 0.4678 - acc: 0.80 - ETA: 10s - loss: 0.4694 - acc: 0.80 - ETA: 8s - loss: 0.4714 - acc: 0.7951 - ETA: 6s - loss: 0.4747 - acc: 0.790 - ETA: 5s - loss: 0.4764 - acc: 0.786 - ETA: 3s - loss: 0.4713 - acc: 0.783 - ETA: 1s - loss: 0.4597 - acc: 0.793 - 26s 60ms/step - loss: 0.4711 - acc: 0.7833 - val_loss: 0.6815 - val_acc: 0.6396\n",
      "Epoch 4/10\n",
      "443/443 [==============================] - ETA: 24s - loss: 0.4738 - acc: 0.78 - ETA: 21s - loss: 0.4596 - acc: 0.75 - ETA: 19s - loss: 0.4559 - acc: 0.76 - ETA: 17s - loss: 0.4343 - acc: 0.78 - ETA: 15s - loss: 0.4180 - acc: 0.80 - ETA: 13s - loss: 0.4164 - acc: 0.79 - ETA: 11s - loss: 0.4002 - acc: 0.81 - ETA: 10s - loss: 0.3867 - acc: 0.81 - ETA: 8s - loss: 0.3740 - acc: 0.8264 - ETA: 6s - loss: 0.3786 - acc: 0.825 - ETA: 5s - loss: 0.3662 - acc: 0.829 - ETA: 3s - loss: 0.3770 - acc: 0.828 - ETA: 1s - loss: 0.3744 - acc: 0.829 - 26s 59ms/step - loss: 0.3891 - acc: 0.8239 - val_loss: 0.3674 - val_acc: 0.8198\n",
      "Epoch 5/10\n",
      "443/443 [==============================] - ETA: 21s - loss: 0.4959 - acc: 0.81 - ETA: 20s - loss: 0.4484 - acc: 0.84 - ETA: 18s - loss: 0.3825 - acc: 0.86 - ETA: 17s - loss: 0.3525 - acc: 0.87 - ETA: 15s - loss: 0.3752 - acc: 0.86 - ETA: 13s - loss: 0.3706 - acc: 0.85 - ETA: 12s - loss: 0.3718 - acc: 0.84 - ETA: 10s - loss: 0.3476 - acc: 0.86 - ETA: 8s - loss: 0.3556 - acc: 0.8542 - ETA: 6s - loss: 0.3533 - acc: 0.856 - ETA: 4s - loss: 0.3605 - acc: 0.852 - ETA: 3s - loss: 0.3508 - acc: 0.859 - ETA: 1s - loss: 0.3537 - acc: 0.860 - 26s 59ms/step - loss: 0.3468 - acc: 0.8646 - val_loss: 0.4211 - val_acc: 0.8018\n",
      "Epoch 6/10\n",
      "443/443 [==============================] - ETA: 22s - loss: 0.3314 - acc: 0.84 - ETA: 20s - loss: 0.2675 - acc: 0.87 - ETA: 18s - loss: 0.2714 - acc: 0.88 - ETA: 16s - loss: 0.2901 - acc: 0.87 - ETA: 15s - loss: 0.3174 - acc: 0.85 - ETA: 13s - loss: 0.3051 - acc: 0.85 - ETA: 11s - loss: 0.3036 - acc: 0.86 - ETA: 10s - loss: 0.3222 - acc: 0.85 - ETA: 8s - loss: 0.3094 - acc: 0.8681 - ETA: 6s - loss: 0.3199 - acc: 0.859 - ETA: 4s - loss: 0.3207 - acc: 0.852 - ETA: 3s - loss: 0.3043 - acc: 0.862 - ETA: 1s - loss: 0.3057 - acc: 0.865 - 26s 59ms/step - loss: 0.3137 - acc: 0.8668 - val_loss: 0.4032 - val_acc: 0.7838\n",
      "Epoch 7/10\n",
      "443/443 [==============================] - ETA: 23s - loss: 0.2007 - acc: 0.96 - ETA: 22s - loss: 0.2401 - acc: 0.93 - ETA: 19s - loss: 0.2354 - acc: 0.92 - ETA: 17s - loss: 0.2787 - acc: 0.90 - ETA: 15s - loss: 0.2865 - acc: 0.88 - ETA: 13s - loss: 0.2941 - acc: 0.88 - ETA: 12s - loss: 0.2952 - acc: 0.89 - ETA: 10s - loss: 0.2895 - acc: 0.89 - ETA: 8s - loss: 0.2752 - acc: 0.8993 - ETA: 6s - loss: 0.2688 - acc: 0.896 - ETA: 5s - loss: 0.2728 - acc: 0.892 - ETA: 3s - loss: 0.2826 - acc: 0.888 - ETA: 1s - loss: 0.2801 - acc: 0.889 - 26s 59ms/step - loss: 0.2725 - acc: 0.8939 - val_loss: 0.2941 - val_acc: 0.8649\n",
      "Epoch 8/10\n",
      "443/443 [==============================] - ETA: 22s - loss: 0.2655 - acc: 0.84 - ETA: 20s - loss: 0.2964 - acc: 0.89 - ETA: 18s - loss: 0.2996 - acc: 0.88 - ETA: 17s - loss: 0.3361 - acc: 0.88 - ETA: 15s - loss: 0.3276 - acc: 0.87 - ETA: 13s - loss: 0.3006 - acc: 0.88 - ETA: 12s - loss: 0.3118 - acc: 0.87 - ETA: 10s - loss: 0.2996 - acc: 0.88 - ETA: 8s - loss: 0.2900 - acc: 0.8924 - ETA: 6s - loss: 0.2877 - acc: 0.890 - ETA: 4s - loss: 0.2870 - acc: 0.894 - ETA: 3s - loss: 0.2805 - acc: 0.898 - ETA: 1s - loss: 0.2768 - acc: 0.899 - 26s 59ms/step - loss: 0.2781 - acc: 0.8984 - val_loss: 0.3066 - val_acc: 0.8649\n",
      "Epoch 9/10\n",
      "443/443 [==============================] - ETA: 21s - loss: 0.1939 - acc: 0.90 - ETA: 19s - loss: 0.1752 - acc: 0.93 - ETA: 18s - loss: 0.1600 - acc: 0.94 - ETA: 16s - loss: 0.2041 - acc: 0.93 - ETA: 14s - loss: 0.2246 - acc: 0.92 - ETA: 13s - loss: 0.2431 - acc: 0.90 - ETA: 11s - loss: 0.2281 - acc: 0.91 - ETA: 10s - loss: 0.2225 - acc: 0.91 - ETA: 8s - loss: 0.2201 - acc: 0.9201 - ETA: 6s - loss: 0.2060 - acc: 0.925 - ETA: 4s - loss: 0.2367 - acc: 0.914 - ETA: 3s - loss: 0.2450 - acc: 0.914 - ETA: 1s - loss: 0.2441 - acc: 0.911 - 26s 58ms/step - loss: 0.2515 - acc: 0.9097 - val_loss: 0.3789 - val_acc: 0.7838\n",
      "Epoch 10/10\n",
      "443/443 [==============================] - ETA: 23s - loss: 0.2296 - acc: 0.93 - ETA: 22s - loss: 0.1956 - acc: 0.93 - ETA: 20s - loss: 0.2163 - acc: 0.91 - ETA: 17s - loss: 0.2029 - acc: 0.92 - ETA: 15s - loss: 0.1961 - acc: 0.93 - ETA: 14s - loss: 0.2438 - acc: 0.91 - ETA: 12s - loss: 0.2353 - acc: 0.91 - ETA: 10s - loss: 0.2187 - acc: 0.92 - ETA: 8s - loss: 0.2167 - acc: 0.9306 - ETA: 6s - loss: 0.2139 - acc: 0.928 - ETA: 5s - loss: 0.2217 - acc: 0.929 - ETA: 3s - loss: 0.2372 - acc: 0.919 - ETA: 1s - loss: 0.2342 - acc: 0.920 - 26s 60ms/step - loss: 0.2333 - acc: 0.9210 - val_loss: 0.2982 - val_acc: 0.9009\n",
      "Wall time: 4min 26s\n"
     ]
    },
    {
     "data": {
      "text/plain": [
       "<keras.callbacks.History at 0x14803cc8>"
      ]
     },
     "execution_count": 9,
     "metadata": {},
     "output_type": "execute_result"
    }
   ],
   "source": [
    "%%time\n",
    "model.fit(X_train, y_train, epochs=10, validation_data=(X_test, y_test), callbacks = callbacks_list)"
   ]
  },
  {
   "cell_type": "markdown",
   "metadata": {},
   "source": [
    "### ------------------------------- USING KERAS-----------------------------"
   ]
  },
  {
   "cell_type": "code",
   "execution_count": null,
   "metadata": {},
   "outputs": [],
   "source": []
  },
  {
   "cell_type": "code",
   "execution_count": null,
   "metadata": {},
   "outputs": [],
   "source": []
  }
 ],
 "metadata": {
  "kernelspec": {
   "display_name": "Python 3",
   "language": "python",
   "name": "python3"
  },
  "language_info": {
   "codemirror_mode": {
    "name": "ipython",
    "version": 3
   },
   "file_extension": ".py",
   "mimetype": "text/x-python",
   "name": "python",
   "nbconvert_exporter": "python",
   "pygments_lexer": "ipython3",
   "version": "3.7.4"
  }
 },
 "nbformat": 4,
 "nbformat_minor": 2
}
