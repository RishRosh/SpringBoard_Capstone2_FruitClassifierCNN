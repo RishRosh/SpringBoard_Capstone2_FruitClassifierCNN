{
 "cells": [
  {
   "cell_type": "markdown",
   "metadata": {},
   "source": [
    "## Pre-process images\n",
    "\n",
    "In this notebook, the images are pre-processed by thumbnailing, padding them with white pixels and either conversion to grayscale or keeping the colors. Attempts are made by using multiple libraries of Pillow and CV2 and comparing the classifier accuracy. It was found that colored images preproceesed by CV2 have better accuracy.\n",
    "\n",
    "<b>Note:</b> Classifier training has been done on COLAB notebooks to take advantage of free GPU available. Appropriate references to original authors/inspiration have been given in respective sections. Lots of improvisation has been done.\n",
    "\n",
    "<b>Ref1:</b> Pillow library techniques for image processing taken from: https://machinelearningmastery.com/how-to-load-and-manipulate-images-for-deep-learning-in-python-with-pil-pillow/<br>\n",
    "<b>Ref2:</b> All CV2 image processing techniques are inspired by: https://jdhao.github.io/2017/11/06/resize-image-to-square-with-padding/ <br>\n",
    "<b>Ref3:</b> Keras processing technique inspired by : https://towardsdatascience.com/classify-butterfly-images-with-deep-learning-in-keras-b3101fe0f98"
   ]
  },
  {
   "cell_type": "code",
   "execution_count": 18,
   "metadata": {
    "scrolled": false
   },
   "outputs": [],
   "source": [
    "from PIL import Image\n",
    "from os import listdir, system\n",
    "import matplotlib.pyplot as plt\n",
    "import numpy as np\n",
    "import cv2\n",
    "import keras\n",
    "from keras.models import Sequential\n",
    "from keras.layers import Dense, Dropout, Flatten\n",
    "from keras.layers import Conv2D, MaxPooling2D\n",
    "from keras.utils import to_categorical\n",
    "from keras.preprocessing import image\n",
    "from keras.preprocessing.image import ImageDataGenerator, array_to_img, img_to_array, load_img\n",
    "\n",
    "%matplotlib inline\n",
    "\n",
    "root_dir = 'H:\\\\DataScience\\\\Cap2\\\\'\n",
    "raw_dir = root_dir + 'Full_Set_Raw\\\\'\n",
    "proc_dir = root_dir + 'Full_Set_Processed\\\\'\n",
    "comb_dir = root_dir + 'Full_Set_Proc_Comb\\\\' # Combined directory for processing on Colab.\n",
    "fruit_csv = proc_dir + 'train.csv'\n",
    "test_raw_dir = root_dir + 'Test_Set_Raw\\\\'\n",
    "test_proc_dir = root_dir + 'Test_Set_Processed\\\\'\n",
    "test_comb_dir = root_dir + 'Test_Set_Proc_Comb\\\\' # Combined directory for processing on Colab.\n",
    "test_fruit_csv = test_proc_dir + 'test.csv'"
   ]
  },
  {
   "cell_type": "code",
   "execution_count": 19,
   "metadata": {},
   "outputs": [],
   "source": [
    "def cv2_resize_pad(im, desired_size = 100, border_color='w'):\n",
    "    \"\"\" Function to resize and pad color image in CV2 \"\"\"\n",
    "    old_size = im.shape[:2] # old_size is in (height, width) format\n",
    "    \n",
    "    # First resize image\n",
    "    ratio = float(desired_size)/max(old_size)\n",
    "    new_size = tuple([int(x*ratio) for x in old_size])\n",
    "    im = cv2.resize(im, (new_size[1], new_size[0]), interpolation = cv2.INTER_AREA)\n",
    "\n",
    "    # Now pad image by using border to fill it\n",
    "    delta_w = desired_size - new_size[1]\n",
    "    delta_h = desired_size - new_size[0]\n",
    "    top, bottom = delta_h//2, delta_h-(delta_h//2)\n",
    "    left, right = delta_w//2, delta_w-(delta_w//2)\n",
    "\n",
    "    if border_color =='w':\n",
    "        color = [255, 255, 255]\n",
    "    if border_color =='b':\n",
    "        color = [0, 0, 0]\n",
    "        \n",
    "    new_im = cv2.copyMakeBorder(im, top, bottom, left, right, cv2.BORDER_CONSTANT, value=color)\n",
    "    return new_im    "
   ]
  },
  {
   "cell_type": "code",
   "execution_count": 12,
   "metadata": {},
   "outputs": [
    {
     "data": {
      "image/png": "[encoded data removed]",
      "text/plain": [
       "<Figure size 432x288 with 1 Axes>"
      ]
     },
     "metadata": {
      "needs_background": "light"
     },
     "output_type": "display_data"
    }
   ],
   "source": [
    "im = cv2.imread(raw_dir + \"Mango\\\\\" + '00000004.jpg')\n",
    "new_im = cv2_resize_pad(im)\n",
    "cv2.imwrite(proc_dir + 'Mango\\\\11.jpg', new_im)\n",
    "plt.imshow(cv2.cvtColor(new_im, cv2.COLOR_BGR2RGB))\n",
    "plt.show()"
   ]
  },
  {
   "cell_type": "code",
   "execution_count": 17,
   "metadata": {},
   "outputs": [
    {
     "data": {
      "text/plain": [
       "0"
      ]
     },
     "execution_count": 17,
     "metadata": {},
     "output_type": "execute_result"
    }
   ],
   "source": [
    "# Convert all images using CV2\n",
    "\n",
    "import csv\n",
    "cnt = 1\n",
    "category = 0\n",
    "\n",
    "header = ['id', 'label']\n",
    "\n",
    "with open(fruit_csv, 'w', newline='') as csvf:\n",
    "    writer = csv.writer(csvf, delimiter=',')\n",
    "    # Write Header\n",
    "    writer.writerow(i for i in header)\n",
    "    \n",
    "    for subfolder in listdir(raw_dir):\n",
    "        subDirPathSrc = raw_dir + subfolder + '\\\\'\n",
    "        subDirPathDest = proc_dir + subfolder + '\\\\'\n",
    "\n",
    "        for file in listdir(subDirPathSrc):\n",
    "            img = cv2.imread(subDirPathSrc + file)\n",
    "            new_im = cv2_resize_pad(img)\n",
    "            cv2.imwrite(subDirPathDest + str(cnt) + '.jpg', new_im)\n",
    "            cv2.imwrite(comb_dir + str(cnt) + '.jpg', new_im)\n",
    "            writer.writerow([cnt, category])    \n",
    "            cnt+=1\n",
    "            \n",
    "        category+=1\n",
    "    \n",
    "# Copy file from the processed directory to the processed and combined directory for training on Colab.    \n",
    "system('copy ' + fruit_csv + ' ' + comb_dir)"
   ]
  },
  {
   "cell_type": "code",
   "execution_count": 21,
   "metadata": {},
   "outputs": [
    {
     "data": {
      "text/plain": [
       "0"
      ]
     },
     "execution_count": 21,
     "metadata": {},
     "output_type": "execute_result"
    }
   ],
   "source": [
    "# Process the test data set\n",
    "\n",
    "category = 0\n",
    "\n",
    "with open(test_fruit_csv, 'w', newline='') as csvf:\n",
    "    writer = csv.writer(csvf, delimiter=',')\n",
    "    # Write Header\n",
    "    writer.writerow(j for j in header)\n",
    "    \n",
    "    for subfolder in listdir(test_raw_dir):\n",
    "        subDirPathSrc = test_raw_dir + subfolder + '\\\\'\n",
    "        subDirPathDest = test_proc_dir + subfolder + '\\\\'\n",
    "\n",
    "        for file in listdir(subDirPathSrc):\n",
    "            img = cv2.imread(subDirPathSrc + file)\n",
    "            new_im = cv2_resize_pad(img)\n",
    "            cv2.imwrite(subDirPathDest + str(cnt) + '.jpg', new_im)\n",
    "            cv2.imwrite(test_comb_dir + str(cnt) + '.jpg', new_im)\n",
    "            writer.writerow([cnt, category])    \n",
    "            cnt+=1\n",
    "            \n",
    "        category+=1\n",
    "    \n",
    "# Copy file from the processed directory to the processed and combined directory for training on Colab.    \n",
    "system('copy ' + test_fruit_csv + ' ' + test_comb_dir)"
   ]
  },
  {
   "cell_type": "code",
   "execution_count": 20,
   "metadata": {},
   "outputs": [
    {
     "name": "stdout",
     "output_type": "stream",
     "text": [
      "1501\n"
     ]
    }
   ],
   "source": []
  }
 ],
 "metadata": {
  "kernelspec": {
   "display_name": "Python 3",
   "language": "python",
   "name": "python3"
  },
  "language_info": {
   "codemirror_mode": {
    "name": "ipython",
    "version": 3
   },
   "file_extension": ".py",
   "mimetype": "text/x-python",
   "name": "python",
   "nbconvert_exporter": "python",
   "pygments_lexer": "ipython3",
   "version": "3.7.4"
  }
 },
 "nbformat": 4,
 "nbformat_minor": 2
}
