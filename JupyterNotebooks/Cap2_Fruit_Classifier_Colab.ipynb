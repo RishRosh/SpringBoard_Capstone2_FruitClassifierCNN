{
  "nbformat": 4,
  "nbformat_minor": 0,
  "metadata": {
    "colab": {
      "name": "Cap2_Fruit_Classifier.ipynb",
      "version": "0.3.2",
      "provenance": [],
      "collapsed_sections": []
    },
    "kernelspec": {
      "name": "python3",
      "display_name": "Python 3"
    },
    "accelerator": "GPU"
  },
  "cells": [
    {
      "cell_type": "code",
      "metadata": {
        "id": "dF6MAosaEoEz",
        "colab_type": "code",
        "outputId": "0b44b3be-0e3f-4c9a-f655-eb751fc85b16",
        "colab": {
          "base_uri": "https://localhost:8080/",
          "height": 391
        }
      },
      "source": [
        "# Initiate Python in Colab environment\n",
        "!pip install PyDrive"
      ],
      "execution_count": 1,
      "outputs": [
        {
          "output_type": "stream",
          "text": [
            "Collecting PyDrive\n",
            "\u001b[?25l  Downloading https://files.pythonhosted.org/packages/52/e0/0e64788e5dd58ce2d6934549676243dc69d982f198524be9b99e9c2a4fd5/PyDrive-1.3.1.tar.gz (987kB)\n",
            "\u001b[K     |████████████████████████████████| 993kB 2.8MB/s \n",
            "\u001b[?25hRequirement already satisfied: google-api-python-client>=1.2 in /usr/local/lib/python3.6/dist-packages (from PyDrive) (1.7.11)\n",
            "Requirement already satisfied: oauth2client>=4.0.0 in /usr/local/lib/python3.6/dist-packages (from PyDrive) (4.1.3)\n",
            "Requirement already satisfied: PyYAML>=3.0 in /usr/local/lib/python3.6/dist-packages (from PyDrive) (3.13)\n",
            "Requirement already satisfied: httplib2<1dev,>=0.9.2 in /usr/local/lib/python3.6/dist-packages (from google-api-python-client>=1.2->PyDrive) (0.11.3)\n",
            "Requirement already satisfied: six<2dev,>=1.6.1 in /usr/local/lib/python3.6/dist-packages (from google-api-python-client>=1.2->PyDrive) (1.12.0)\n",
            "Requirement already satisfied: google-auth-httplib2>=0.0.3 in /usr/local/lib/python3.6/dist-packages (from google-api-python-client>=1.2->PyDrive) (0.0.3)\n",
            "Requirement already satisfied: google-auth>=1.4.1 in /usr/local/lib/python3.6/dist-packages (from google-api-python-client>=1.2->PyDrive) (1.4.2)\n",
            "Requirement already satisfied: uritemplate<4dev,>=3.0.0 in /usr/local/lib/python3.6/dist-packages (from google-api-python-client>=1.2->PyDrive) (3.0.0)\n",
            "Requirement already satisfied: pyasn1>=0.1.7 in /usr/local/lib/python3.6/dist-packages (from oauth2client>=4.0.0->PyDrive) (0.4.6)\n",
            "Requirement already satisfied: pyasn1-modules>=0.0.5 in /usr/local/lib/python3.6/dist-packages (from oauth2client>=4.0.0->PyDrive) (0.2.6)\n",
            "Requirement already satisfied: rsa>=3.1.4 in /usr/local/lib/python3.6/dist-packages (from oauth2client>=4.0.0->PyDrive) (4.0)\n",
            "Requirement already satisfied: cachetools>=2.0.0 in /usr/local/lib/python3.6/dist-packages (from google-auth>=1.4.1->google-api-python-client>=1.2->PyDrive) (3.1.1)\n",
            "Building wheels for collected packages: PyDrive\n",
            "  Building wheel for PyDrive (setup.py) ... \u001b[?25l\u001b[?25hdone\n",
            "  Created wheel for PyDrive: filename=PyDrive-1.3.1-cp36-none-any.whl size=27437 sha256=cbd5e8291f02954593fc994a6f55d929c556fe4d5990b2906b13bb874c0f1a58\n",
            "  Stored in directory: /root/.cache/pip/wheels/fa/d2/9a/d3b6b506c2da98289e5d417215ce34b696db856643bad779f4\n",
            "Successfully built PyDrive\n",
            "Installing collected packages: PyDrive\n",
            "Successfully installed PyDrive-1.3.1\n"
          ],
          "name": "stdout"
        }
      ]
    },
    {
      "cell_type": "code",
      "metadata": {
        "id": "XRvJzZnGIWID",
        "colab_type": "code",
        "colab": {}
      },
      "source": [
        "# Import essentials\n",
        "\n",
        "import os\n",
        "from pydrive.auth import GoogleAuth\n",
        "from pydrive.drive import GoogleDrive\n",
        "from google.colab import auth\n",
        "from oauth2client.client import GoogleCredentials"
      ],
      "execution_count": 0,
      "outputs": []
    },
    {
      "cell_type": "code",
      "metadata": {
        "id": "q8zR98FrI-pU",
        "colab_type": "code",
        "colab": {}
      },
      "source": [
        "# Enable Google drive authentication and authorization to read from the google drive\n",
        "\n",
        "auth.authenticate_user()\n",
        "gauth = GoogleAuth()\n",
        "gauth.credentials = GoogleCredentials.get_application_default()\n",
        "drive = GoogleDrive(gauth)"
      ],
      "execution_count": 0,
      "outputs": []
    },
    {
      "cell_type": "code",
      "metadata": {
        "id": "I8o_A_1bIvWv",
        "colab_type": "code",
        "colab": {}
      },
      "source": [
        "# Link the training set, download and unzip it\n",
        "download = drive.CreateFile({'id': '1gvdIbq3G4JwHvRUGvW7KnWA9hP2bpUSy'})\n",
        "download.GetContentFile('Full_Set_Proc_Comb.zip')\n",
        "!unzip Full_Set_Proc_Comb.zip"
      ],
      "execution_count": 0,
      "outputs": []
    },
    {
      "cell_type": "code",
      "metadata": {
        "id": "ENVS3tSoMT0u",
        "colab_type": "code",
        "colab": {}
      },
      "source": [
        "# Link the training set\n",
        "download = drive.CreateFile({'id': '1mM5e0SRKuTklmVoKtqKx8dT_mxezrhxo'})\n",
        "download.GetContentFile('Test_Set_Proc_Comb.zip')\n",
        "!unzip Test_Set_Proc_Comb.zip\n"
      ],
      "execution_count": 0,
      "outputs": []
    },
    {
      "cell_type": "code",
      "metadata": {
        "id": "h9eOeRj4Jayk",
        "colab_type": "code",
        "outputId": "27dcd600-e2ab-4d47-c34e-fda97246e275",
        "colab": {
          "base_uri": "https://localhost:8080/",
          "height": 34
        }
      },
      "source": [
        "# Link the training set\n",
        "import keras\n",
        "from keras.models import Sequential\n",
        "from keras.layers import Dense, Dropout, Flatten\n",
        "from keras.layers import Conv2D, MaxPooling2D\n",
        "from keras.utils import to_categorical\n",
        "from keras.preprocessing import image\n",
        "import numpy as np\n",
        "import pandas as pd\n",
        "import matplotlib.pyplot as plt\n",
        "from sklearn.model_selection import train_test_split\n",
        "from keras.utils import to_categorical\n",
        "from tqdm import tqdm"
      ],
      "execution_count": 6,
      "outputs": [
        {
          "output_type": "stream",
          "text": [
            "Using TensorFlow backend.\n"
          ],
          "name": "stderr"
        }
      ]
    },
    {
      "cell_type": "code",
      "metadata": {
        "id": "hXFWDl4-M7M7",
        "colab_type": "code",
        "colab": {}
      },
      "source": [
        "# Read the train and test files\n",
        "train = pd.read_csv('Full_Set_Proc_Comb/train.csv')\n",
        "test = pd.read_csv('Test_Set_Proc_Comb/test.csv')\n"
      ],
      "execution_count": 0,
      "outputs": []
    },
    {
      "cell_type": "code",
      "metadata": {
        "id": "rPG4nE2ce2zM",
        "colab_type": "code",
        "outputId": "e7c087b5-af1f-434d-cf4f-f89429680b20",
        "colab": {
          "base_uri": "https://localhost:8080/",
          "height": 204
        }
      },
      "source": [
        "# Get full file names\n",
        "from keras.preprocessing.image import ImageDataGenerator, array_to_img, img_to_array, load_img\n",
        "df = train\n",
        "df['id'] = df.id.astype(str)\n",
        "df['label'] = df.label.astype(str)\n",
        "df['id'] = df['id'] + '.jpg'\n",
        "train_set, test_set = train_test_split(df, test_size=0.2, random_state=42)\n",
        "train_set.head()"
      ],
      "execution_count": 35,
      "outputs": [
        {
          "output_type": "execute_result",
          "data": {
            "text/html": [
              "<div>\n",
              "<style scoped>\n",
              "    .dataframe tbody tr th:only-of-type {\n",
              "        vertical-align: middle;\n",
              "    }\n",
              "\n",
              "    .dataframe tbody tr th {\n",
              "        vertical-align: top;\n",
              "    }\n",
              "\n",
              "    .dataframe thead th {\n",
              "        text-align: right;\n",
              "    }\n",
              "</style>\n",
              "<table border=\"1\" class=\"dataframe\">\n",
              "  <thead>\n",
              "    <tr style=\"text-align: right;\">\n",
              "      <th></th>\n",
              "      <th>id</th>\n",
              "      <th>label</th>\n",
              "    </tr>\n",
              "  </thead>\n",
              "  <tbody>\n",
              "    <tr>\n",
              "      <th>382</th>\n",
              "      <td>383.jpg</td>\n",
              "      <td>1</td>\n",
              "    </tr>\n",
              "    <tr>\n",
              "      <th>538</th>\n",
              "      <td>539.jpg</td>\n",
              "      <td>1</td>\n",
              "    </tr>\n",
              "    <tr>\n",
              "      <th>1493</th>\n",
              "      <td>1494.jpg</td>\n",
              "      <td>4</td>\n",
              "    </tr>\n",
              "    <tr>\n",
              "      <th>1112</th>\n",
              "      <td>1113.jpg</td>\n",
              "      <td>3</td>\n",
              "    </tr>\n",
              "    <tr>\n",
              "      <th>324</th>\n",
              "      <td>325.jpg</td>\n",
              "      <td>1</td>\n",
              "    </tr>\n",
              "  </tbody>\n",
              "</table>\n",
              "</div>"
            ],
            "text/plain": [
              "            id label\n",
              "382    383.jpg     1\n",
              "538    539.jpg     1\n",
              "1493  1494.jpg     4\n",
              "1112  1113.jpg     3\n",
              "324    325.jpg     1"
            ]
          },
          "metadata": {
            "tags": []
          },
          "execution_count": 35
        }
      ]
    },
    {
      "cell_type": "code",
      "metadata": {
        "id": "vK_Jvcuz38d9",
        "colab_type": "code",
        "colab": {
          "base_uri": "https://localhost:8080/",
          "height": 204
        },
        "outputId": "d129fd85-f9a8-41c7-a741-574dd232a5ad"
      },
      "source": [
        "# Get full file names for test set\n",
        "\n",
        "df_test = test\n",
        "df_test['id'] = df_test.id.astype(str)\n",
        "df_test['label'] = df_test.label.astype(str)\n",
        "df_test['id'] = df_test['id'] + '.jpg'\n",
        "\n",
        "df_test.head()"
      ],
      "execution_count": 36,
      "outputs": [
        {
          "output_type": "execute_result",
          "data": {
            "text/html": [
              "<div>\n",
              "<style scoped>\n",
              "    .dataframe tbody tr th:only-of-type {\n",
              "        vertical-align: middle;\n",
              "    }\n",
              "\n",
              "    .dataframe tbody tr th {\n",
              "        vertical-align: top;\n",
              "    }\n",
              "\n",
              "    .dataframe thead th {\n",
              "        text-align: right;\n",
              "    }\n",
              "</style>\n",
              "<table border=\"1\" class=\"dataframe\">\n",
              "  <thead>\n",
              "    <tr style=\"text-align: right;\">\n",
              "      <th></th>\n",
              "      <th>id</th>\n",
              "      <th>label</th>\n",
              "    </tr>\n",
              "  </thead>\n",
              "  <tbody>\n",
              "    <tr>\n",
              "      <th>0</th>\n",
              "      <td>1501.jpg</td>\n",
              "      <td>0</td>\n",
              "    </tr>\n",
              "    <tr>\n",
              "      <th>1</th>\n",
              "      <td>1502.jpg</td>\n",
              "      <td>0</td>\n",
              "    </tr>\n",
              "    <tr>\n",
              "      <th>2</th>\n",
              "      <td>1503.jpg</td>\n",
              "      <td>0</td>\n",
              "    </tr>\n",
              "    <tr>\n",
              "      <th>3</th>\n",
              "      <td>1504.jpg</td>\n",
              "      <td>0</td>\n",
              "    </tr>\n",
              "    <tr>\n",
              "      <th>4</th>\n",
              "      <td>1505.jpg</td>\n",
              "      <td>0</td>\n",
              "    </tr>\n",
              "  </tbody>\n",
              "</table>\n",
              "</div>"
            ],
            "text/plain": [
              "         id label\n",
              "0  1501.jpg     0\n",
              "1  1502.jpg     0\n",
              "2  1503.jpg     0\n",
              "3  1504.jpg     0\n",
              "4  1505.jpg     0"
            ]
          },
          "metadata": {
            "tags": []
          },
          "execution_count": 36
        }
      ]
    },
    {
      "cell_type": "code",
      "metadata": {
        "id": "o8ljTsYXe_EG",
        "colab_type": "code",
        "outputId": "c9bc4db8-f3aa-423b-b2c4-9f68f3ce7210",
        "colab": {
          "base_uri": "https://localhost:8080/",
          "height": 119
        }
      },
      "source": [
        "# Check if data is split sort of evenly\n",
        "train_set['label'].value_counts()"
      ],
      "execution_count": 37,
      "outputs": [
        {
          "output_type": "execute_result",
          "data": {
            "text/plain": [
              "2    251\n",
              "0    244\n",
              "4    236\n",
              "1    235\n",
              "3    234\n",
              "Name: label, dtype: int64"
            ]
          },
          "metadata": {
            "tags": []
          },
          "execution_count": 37
        }
      ]
    },
    {
      "cell_type": "code",
      "metadata": {
        "id": "BW9jSDlSfGac",
        "colab_type": "code",
        "outputId": "df8b9bd4-9516-497d-cd19-687aba84f37e",
        "colab": {
          "base_uri": "https://localhost:8080/",
          "height": 68
        }
      },
      "source": [
        "# Define Data Generators\n",
        "datagen=ImageDataGenerator(\n",
        "    rotation_range = 45,\n",
        "    width_shift_range = 0.2,\n",
        "    height_shift_range = 0.2,\n",
        "    shear_range = 0.3,\n",
        "    zoom_range = 0.3,\n",
        "    horizontal_flip = True,\n",
        "    rescale=1./255)\n",
        "\n",
        "datagentest=ImageDataGenerator(\n",
        "    rescale=1./255)\n",
        "\n",
        "train_generator=datagen.flow_from_dataframe(\n",
        "    dataframe=train_set, \n",
        "    directory=\"Full_Set_Proc_Comb\", \n",
        "    x_col=\"id\", \n",
        "    y_col=\"label\", \n",
        "    class_mode=\"categorical\", \n",
        "    target_size=(100,100), \n",
        "    batch_size=32,\n",
        "    shuffle=True)\n",
        "\n",
        "valid_generator=datagentest.flow_from_dataframe(\n",
        "    dataframe=test_set, \n",
        "    directory=\"Full_Set_Proc_Comb\", \n",
        "    x_col=\"id\", \n",
        "    y_col=\"label\", \n",
        "    class_mode=\"categorical\", \n",
        "    target_size=(100,100), \n",
        "    batch_size=32,\n",
        "    shuffle=False)\n",
        "\n",
        "test_generator=datagentest.flow_from_dataframe(\n",
        "    dataframe=df_test, \n",
        "    directory=\"Test_Set_Proc_Comb\", \n",
        "    x_col=\"id\", \n",
        "    y_col=\"label\", \n",
        "    class_mode=\"categorical\", \n",
        "    target_size=(100,100), \n",
        "    batch_size=32,\n",
        "    shuffle=False)"
      ],
      "execution_count": 42,
      "outputs": [
        {
          "output_type": "stream",
          "text": [
            "Found 1200 validated image filenames belonging to 5 classes.\n",
            "Found 300 validated image filenames belonging to 5 classes.\n",
            "Found 50 validated image filenames belonging to 5 classes.\n"
          ],
          "name": "stdout"
        }
      ]
    },
    {
      "cell_type": "code",
      "metadata": {
        "id": "gi_6c_IYN-LO",
        "colab_type": "code",
        "colab": {}
      },
      "source": [
        "# Best model with basic CNN\n",
        "model = Sequential()\n",
        "model.add(Conv2D(32, kernel_size=(3, 3),activation='relu',input_shape=(100,100,3), padding='same'))\n",
        "model.add(Conv2D(32, (3, 3), activation='relu'))\n",
        "model.add(MaxPooling2D(pool_size=(2, 2)))\n",
        "model.add(Dropout(0.25))\n",
        "model.add(Conv2D(64, (3, 3), activation='relu', padding='same'))\n",
        "model.add(Conv2D(64, (3, 3), activation='relu'))\n",
        "model.add(MaxPooling2D(pool_size=(2, 2)))\n",
        "model.add(Dropout(0.25))\n",
        "model.add(Flatten())\n",
        "model.add(Dense(128, activation='relu'))\n",
        "model.add(Dropout(0.5))\n",
        "model.add(Dense(5, activation='softmax'))"
      ],
      "execution_count": 0,
      "outputs": []
    },
    {
      "cell_type": "code",
      "metadata": {
        "id": "T3R4I8JWC730",
        "colab_type": "code",
        "colab": {}
      },
      "source": [
        "# Create a checkpoint for saving the optimum validation loss parameter\n",
        "from keras.callbacks import ModelCheckpoint\n",
        "checkpoint = ModelCheckpoint('weights_cap2_3.hdf5', monitor='val_loss', save_best_only=True)\n",
        "callbacks_list = [checkpoint]\n",
        "    "
      ],
      "execution_count": 0,
      "outputs": []
    },
    {
      "cell_type": "code",
      "metadata": {
        "id": "BPcJBi6jOKJ5",
        "colab_type": "code",
        "colab": {}
      },
      "source": [
        "# Compile the model\n",
        "from keras import optimizers\n",
        "model.compile(optimizers.rmsprop(lr=0.001),loss='categorical_crossentropy', metrics=[\"accuracy\"])"
      ],
      "execution_count": 0,
      "outputs": []
    },
    {
      "cell_type": "code",
      "metadata": {
        "id": "aEnTIm2xUuTd",
        "colab_type": "code",
        "colab": {
          "base_uri": "https://localhost:8080/",
          "height": 1000
        },
        "outputId": "556f78ff-46b7-48b4-c89d-424cbfd2002b"
      },
      "source": [
        "%%time\n",
        "### TRAIN THE MODEL\n",
        "STEP_SIZE_TRAIN=train_generator.n//train_generator.batch_size\n",
        "STEP_SIZE_VALID=valid_generator.n//valid_generator.batch_size\n",
        "model.fit_generator(generator=train_generator,\n",
        "                    steps_per_epoch=STEP_SIZE_TRAIN,\n",
        "                    validation_data=valid_generator,\n",
        "                    validation_steps=STEP_SIZE_VALID,\n",
        "                    epochs=250,\n",
        "                    callbacks=callbacks_list)"
      ],
      "execution_count": 50,
      "outputs": [
        {
          "output_type": "stream",
          "text": [
            "Epoch 1/250\n",
            "37/37 [==============================] - 5s 137ms/step - loss: 1.6238 - acc: 0.3886 - val_loss: 1.6913 - val_acc: 0.3611\n",
            "Epoch 2/250\n",
            "37/37 [==============================] - 5s 127ms/step - loss: 0.9697 - acc: 0.6250 - val_loss: 0.8135 - val_acc: 0.6231\n",
            "Epoch 3/250\n",
            "37/37 [==============================] - 5s 125ms/step - loss: 0.7850 - acc: 0.6529 - val_loss: 0.5677 - val_acc: 0.6866\n",
            "Epoch 4/250\n",
            "37/37 [==============================] - 5s 123ms/step - loss: 0.7017 - acc: 0.6824 - val_loss: 0.6520 - val_acc: 0.6679\n",
            "Epoch 5/250\n",
            "37/37 [==============================] - 5s 124ms/step - loss: 0.6935 - acc: 0.6723 - val_loss: 0.6951 - val_acc: 0.6194\n",
            "Epoch 6/250\n",
            "37/37 [==============================] - 5s 126ms/step - loss: 0.6741 - acc: 0.7002 - val_loss: 0.6175 - val_acc: 0.7276\n",
            "Epoch 7/250\n",
            "37/37 [==============================] - 4s 121ms/step - loss: 0.6429 - acc: 0.7204 - val_loss: 0.5764 - val_acc: 0.7276\n",
            "Epoch 8/250\n",
            "37/37 [==============================] - 4s 121ms/step - loss: 0.6743 - acc: 0.7078 - val_loss: 0.5040 - val_acc: 0.7575\n",
            "Epoch 9/250\n",
            "37/37 [==============================] - 5s 126ms/step - loss: 0.6422 - acc: 0.7171 - val_loss: 0.6203 - val_acc: 0.7463\n",
            "Epoch 10/250\n",
            "37/37 [==============================] - 4s 122ms/step - loss: 0.5892 - acc: 0.7280 - val_loss: 0.5767 - val_acc: 0.7388\n",
            "Epoch 11/250\n",
            "37/37 [==============================] - 5s 124ms/step - loss: 0.5550 - acc: 0.7609 - val_loss: 0.5818 - val_acc: 0.7569\n",
            "Epoch 12/250\n",
            "37/37 [==============================] - 5s 124ms/step - loss: 0.5602 - acc: 0.7568 - val_loss: 0.5234 - val_acc: 0.7836\n",
            "Epoch 13/250\n",
            "37/37 [==============================] - 5s 123ms/step - loss: 0.5469 - acc: 0.7517 - val_loss: 0.4829 - val_acc: 0.8097\n",
            "Epoch 14/250\n",
            "37/37 [==============================] - 5s 123ms/step - loss: 0.5490 - acc: 0.7568 - val_loss: 0.5389 - val_acc: 0.7313\n",
            "Epoch 15/250\n",
            "37/37 [==============================] - 5s 124ms/step - loss: 0.5420 - acc: 0.7838 - val_loss: 0.5396 - val_acc: 0.7687\n",
            "Epoch 16/250\n",
            "37/37 [==============================] - 5s 126ms/step - loss: 0.5244 - acc: 0.7839 - val_loss: 0.4629 - val_acc: 0.7836\n",
            "Epoch 17/250\n",
            "37/37 [==============================] - 5s 127ms/step - loss: 0.5271 - acc: 0.7964 - val_loss: 0.4948 - val_acc: 0.7575\n",
            "Epoch 18/250\n",
            "37/37 [==============================] - 4s 121ms/step - loss: 0.4879 - acc: 0.8032 - val_loss: 0.4286 - val_acc: 0.8209\n",
            "Epoch 19/250\n",
            "37/37 [==============================] - 5s 124ms/step - loss: 0.4664 - acc: 0.8048 - val_loss: 0.6768 - val_acc: 0.7388\n",
            "Epoch 20/250\n",
            "37/37 [==============================] - 5s 123ms/step - loss: 0.5223 - acc: 0.8024 - val_loss: 0.5989 - val_acc: 0.7910\n",
            "Epoch 21/250\n",
            "37/37 [==============================] - 5s 123ms/step - loss: 0.4570 - acc: 0.8075 - val_loss: 0.5395 - val_acc: 0.7639\n",
            "Epoch 22/250\n",
            "37/37 [==============================] - 5s 126ms/step - loss: 0.5049 - acc: 0.8100 - val_loss: 0.5110 - val_acc: 0.7948\n",
            "Epoch 23/250\n",
            "37/37 [==============================] - 4s 120ms/step - loss: 0.4873 - acc: 0.8116 - val_loss: 0.4212 - val_acc: 0.8284\n",
            "Epoch 24/250\n",
            "37/37 [==============================] - 4s 121ms/step - loss: 0.4568 - acc: 0.8192 - val_loss: 0.5480 - val_acc: 0.8209\n",
            "Epoch 25/250\n",
            "37/37 [==============================] - 5s 127ms/step - loss: 0.4980 - acc: 0.8015 - val_loss: 0.6246 - val_acc: 0.8507\n",
            "Epoch 26/250\n",
            "37/37 [==============================] - 5s 124ms/step - loss: 0.3904 - acc: 0.8463 - val_loss: 0.5022 - val_acc: 0.8172\n",
            "Epoch 27/250\n",
            "37/37 [==============================] - 5s 124ms/step - loss: 0.4307 - acc: 0.8480 - val_loss: 0.5757 - val_acc: 0.8022\n",
            "Epoch 28/250\n",
            "37/37 [==============================] - 5s 126ms/step - loss: 0.4686 - acc: 0.8133 - val_loss: 0.5346 - val_acc: 0.7985\n",
            "Epoch 29/250\n",
            "37/37 [==============================] - 5s 124ms/step - loss: 0.3633 - acc: 0.8716 - val_loss: 0.5492 - val_acc: 0.8022\n",
            "Epoch 30/250\n",
            "37/37 [==============================] - 5s 123ms/step - loss: 0.3709 - acc: 0.8497 - val_loss: 0.5015 - val_acc: 0.8209\n",
            "Epoch 31/250\n",
            "37/37 [==============================] - 5s 126ms/step - loss: 0.4220 - acc: 0.8505 - val_loss: 0.6470 - val_acc: 0.7743\n",
            "Epoch 32/250\n",
            "37/37 [==============================] - 5s 126ms/step - loss: 0.3908 - acc: 0.8522 - val_loss: 0.6473 - val_acc: 0.8396\n",
            "Epoch 33/250\n",
            "37/37 [==============================] - 5s 124ms/step - loss: 0.3428 - acc: 0.8784 - val_loss: 0.5363 - val_acc: 0.8396\n",
            "Epoch 34/250\n",
            "37/37 [==============================] - 5s 124ms/step - loss: 0.3899 - acc: 0.8673 - val_loss: 0.5428 - val_acc: 0.8657\n",
            "Epoch 35/250\n",
            "37/37 [==============================] - 5s 126ms/step - loss: 0.3378 - acc: 0.8868 - val_loss: 0.6893 - val_acc: 0.8060\n",
            "Epoch 36/250\n",
            "37/37 [==============================] - 5s 124ms/step - loss: 0.3932 - acc: 0.8539 - val_loss: 0.4816 - val_acc: 0.8545\n",
            "Epoch 37/250\n",
            "37/37 [==============================] - 4s 121ms/step - loss: 0.3401 - acc: 0.8834 - val_loss: 0.5497 - val_acc: 0.8022\n",
            "Epoch 38/250\n",
            "37/37 [==============================] - 5s 126ms/step - loss: 0.4157 - acc: 0.8489 - val_loss: 0.5515 - val_acc: 0.7910\n",
            "Epoch 39/250\n",
            "37/37 [==============================] - 5s 123ms/step - loss: 0.3536 - acc: 0.8759 - val_loss: 0.5516 - val_acc: 0.8246\n",
            "Epoch 40/250\n",
            "37/37 [==============================] - 5s 124ms/step - loss: 0.3606 - acc: 0.8699 - val_loss: 0.3987 - val_acc: 0.8619\n",
            "Epoch 41/250\n",
            "37/37 [==============================] - 5s 124ms/step - loss: 0.3101 - acc: 0.8818 - val_loss: 0.8442 - val_acc: 0.8021\n",
            "Epoch 42/250\n",
            "37/37 [==============================] - 5s 129ms/step - loss: 0.3498 - acc: 0.8674 - val_loss: 0.3670 - val_acc: 0.8396\n",
            "Epoch 43/250\n",
            "37/37 [==============================] - 5s 124ms/step - loss: 0.3520 - acc: 0.8691 - val_loss: 0.5456 - val_acc: 0.8172\n",
            "Epoch 44/250\n",
            "37/37 [==============================] - 5s 124ms/step - loss: 0.3447 - acc: 0.8783 - val_loss: 0.3999 - val_acc: 0.8769\n",
            "Epoch 45/250\n",
            "37/37 [==============================] - 5s 124ms/step - loss: 0.3163 - acc: 0.8919 - val_loss: 0.5545 - val_acc: 0.8246\n",
            "Epoch 46/250\n",
            "37/37 [==============================] - 5s 123ms/step - loss: 0.2762 - acc: 0.8961 - val_loss: 0.5378 - val_acc: 0.8694\n",
            "Epoch 47/250\n",
            "37/37 [==============================] - 5s 124ms/step - loss: 0.3257 - acc: 0.8961 - val_loss: 0.6234 - val_acc: 0.8246\n",
            "Epoch 48/250\n",
            "37/37 [==============================] - 4s 121ms/step - loss: 0.3348 - acc: 0.8767 - val_loss: 0.9106 - val_acc: 0.8022\n",
            "Epoch 49/250\n",
            "37/37 [==============================] - 5s 124ms/step - loss: 0.3701 - acc: 0.8716 - val_loss: 0.4705 - val_acc: 0.8507\n",
            "Epoch 50/250\n",
            "37/37 [==============================] - 5s 123ms/step - loss: 0.2918 - acc: 0.8987 - val_loss: 0.3700 - val_acc: 0.9104\n",
            "Epoch 51/250\n",
            "37/37 [==============================] - 5s 126ms/step - loss: 0.3317 - acc: 0.8792 - val_loss: 0.3348 - val_acc: 0.8819\n",
            "Epoch 52/250\n",
            "37/37 [==============================] - 5s 129ms/step - loss: 0.2633 - acc: 0.9096 - val_loss: 0.2975 - val_acc: 0.8955\n",
            "Epoch 53/250\n",
            "37/37 [==============================] - 5s 123ms/step - loss: 0.3003 - acc: 0.8961 - val_loss: 0.3252 - val_acc: 0.8918\n",
            "Epoch 54/250\n",
            "37/37 [==============================] - 5s 127ms/step - loss: 0.2929 - acc: 0.9029 - val_loss: 0.4609 - val_acc: 0.8470\n",
            "Epoch 55/250\n",
            "37/37 [==============================] - 5s 123ms/step - loss: 0.3286 - acc: 0.8936 - val_loss: 0.4880 - val_acc: 0.8507\n",
            "Epoch 56/250\n",
            "37/37 [==============================] - 5s 124ms/step - loss: 0.2837 - acc: 0.9012 - val_loss: 0.3884 - val_acc: 0.8955\n",
            "Epoch 57/250\n",
            "37/37 [==============================] - 5s 127ms/step - loss: 0.2577 - acc: 0.9155 - val_loss: 0.7333 - val_acc: 0.8321\n",
            "Epoch 58/250\n",
            "37/37 [==============================] - 5s 123ms/step - loss: 0.3416 - acc: 0.9012 - val_loss: 0.4206 - val_acc: 0.9142\n",
            "Epoch 59/250\n",
            "37/37 [==============================] - 5s 124ms/step - loss: 0.3292 - acc: 0.8817 - val_loss: 0.3714 - val_acc: 0.8843\n",
            "Epoch 60/250\n",
            "37/37 [==============================] - 5s 128ms/step - loss: 0.2218 - acc: 0.9181 - val_loss: 0.4186 - val_acc: 0.8955\n",
            "Epoch 61/250\n",
            "37/37 [==============================] - 5s 127ms/step - loss: 0.2611 - acc: 0.9164 - val_loss: 0.4229 - val_acc: 0.8889\n",
            "Epoch 62/250\n",
            "37/37 [==============================] - 5s 125ms/step - loss: 0.2904 - acc: 0.9029 - val_loss: 0.3416 - val_acc: 0.9179\n",
            "Epoch 63/250\n",
            "37/37 [==============================] - 5s 124ms/step - loss: 0.2692 - acc: 0.9062 - val_loss: 0.3433 - val_acc: 0.8881\n",
            "Epoch 64/250\n",
            "37/37 [==============================] - 5s 126ms/step - loss: 0.3267 - acc: 0.9147 - val_loss: 0.4881 - val_acc: 0.8694\n",
            "Epoch 65/250\n",
            "37/37 [==============================] - 5s 126ms/step - loss: 0.2511 - acc: 0.9071 - val_loss: 0.3679 - val_acc: 0.9067\n",
            "Epoch 66/250\n",
            "37/37 [==============================] - 5s 124ms/step - loss: 0.2216 - acc: 0.9324 - val_loss: 0.7334 - val_acc: 0.8321\n",
            "Epoch 67/250\n",
            "37/37 [==============================] - 5s 126ms/step - loss: 0.2648 - acc: 0.9122 - val_loss: 0.3726 - val_acc: 0.8993\n",
            "Epoch 68/250\n",
            "37/37 [==============================] - 4s 121ms/step - loss: 0.2456 - acc: 0.9172 - val_loss: 0.3590 - val_acc: 0.9067\n",
            "Epoch 69/250\n",
            "37/37 [==============================] - 5s 129ms/step - loss: 0.2441 - acc: 0.9071 - val_loss: 0.4052 - val_acc: 0.8881\n",
            "Epoch 70/250\n",
            "37/37 [==============================] - 5s 122ms/step - loss: 0.2751 - acc: 0.9122 - val_loss: 0.4347 - val_acc: 0.8806\n",
            "Epoch 71/250\n",
            "37/37 [==============================] - 5s 125ms/step - loss: 0.2067 - acc: 0.9273 - val_loss: 0.3936 - val_acc: 0.9028\n",
            "Epoch 72/250\n",
            "37/37 [==============================] - 5s 128ms/step - loss: 0.2296 - acc: 0.9130 - val_loss: 0.2986 - val_acc: 0.9067\n",
            "Epoch 73/250\n",
            "37/37 [==============================] - 5s 123ms/step - loss: 0.2433 - acc: 0.9282 - val_loss: 0.2544 - val_acc: 0.9403\n",
            "Epoch 74/250\n",
            "37/37 [==============================] - 5s 124ms/step - loss: 0.2173 - acc: 0.9291 - val_loss: 0.3970 - val_acc: 0.8993\n",
            "Epoch 75/250\n",
            "37/37 [==============================] - 5s 126ms/step - loss: 0.3602 - acc: 0.9155 - val_loss: 0.4097 - val_acc: 0.8918\n",
            "Epoch 76/250\n",
            "37/37 [==============================] - 5s 124ms/step - loss: 0.2657 - acc: 0.9189 - val_loss: 0.5619 - val_acc: 0.8694\n",
            "Epoch 77/250\n",
            "37/37 [==============================] - 5s 123ms/step - loss: 0.2474 - acc: 0.9282 - val_loss: 0.5560 - val_acc: 0.8806\n",
            "Epoch 78/250\n",
            "37/37 [==============================] - 5s 127ms/step - loss: 0.2471 - acc: 0.9189 - val_loss: 0.3284 - val_acc: 0.9142\n",
            "Epoch 79/250\n",
            "37/37 [==============================] - 5s 124ms/step - loss: 0.2118 - acc: 0.9274 - val_loss: 0.2897 - val_acc: 0.8918\n",
            "Epoch 80/250\n",
            "37/37 [==============================] - 5s 126ms/step - loss: 0.2523 - acc: 0.9130 - val_loss: 0.5526 - val_acc: 0.8955\n",
            "Epoch 81/250\n",
            "37/37 [==============================] - 5s 127ms/step - loss: 0.2126 - acc: 0.9299 - val_loss: 0.4812 - val_acc: 0.8854\n",
            "Epoch 82/250\n",
            "37/37 [==============================] - 5s 127ms/step - loss: 0.2381 - acc: 0.9257 - val_loss: 0.2678 - val_acc: 0.9254\n",
            "Epoch 83/250\n",
            "37/37 [==============================] - 5s 126ms/step - loss: 0.2249 - acc: 0.9282 - val_loss: 0.3103 - val_acc: 0.9216\n",
            "Epoch 84/250\n",
            "37/37 [==============================] - 5s 127ms/step - loss: 0.2375 - acc: 0.9307 - val_loss: 0.3591 - val_acc: 0.9104\n",
            "Epoch 85/250\n",
            "37/37 [==============================] - 5s 124ms/step - loss: 0.2286 - acc: 0.9282 - val_loss: 0.3594 - val_acc: 0.8918\n",
            "Epoch 86/250\n",
            "37/37 [==============================] - 5s 126ms/step - loss: 0.2186 - acc: 0.9206 - val_loss: 0.3059 - val_acc: 0.9104\n",
            "Epoch 87/250\n",
            "37/37 [==============================] - 4s 121ms/step - loss: 0.2704 - acc: 0.9265 - val_loss: 0.3464 - val_acc: 0.9440\n",
            "Epoch 88/250\n",
            "37/37 [==============================] - 5s 129ms/step - loss: 0.1869 - acc: 0.9274 - val_loss: 0.4645 - val_acc: 0.9142\n",
            "Epoch 89/250\n",
            "37/37 [==============================] - 5s 126ms/step - loss: 0.1979 - acc: 0.9392 - val_loss: 0.3721 - val_acc: 0.9067\n",
            "Epoch 90/250\n",
            "37/37 [==============================] - 4s 120ms/step - loss: 0.2904 - acc: 0.9113 - val_loss: 0.3594 - val_acc: 0.9179\n",
            "Epoch 91/250\n",
            "37/37 [==============================] - 5s 125ms/step - loss: 0.1849 - acc: 0.9392 - val_loss: 0.4294 - val_acc: 0.9062\n",
            "Epoch 92/250\n",
            "37/37 [==============================] - 5s 127ms/step - loss: 0.2276 - acc: 0.9383 - val_loss: 0.3542 - val_acc: 0.9216\n",
            "Epoch 93/250\n",
            "37/37 [==============================] - 5s 127ms/step - loss: 0.1872 - acc: 0.9358 - val_loss: 0.3207 - val_acc: 0.9328\n",
            "Epoch 94/250\n",
            "37/37 [==============================] - 5s 123ms/step - loss: 0.2240 - acc: 0.9434 - val_loss: 0.3239 - val_acc: 0.9515\n",
            "Epoch 95/250\n",
            "37/37 [==============================] - 5s 127ms/step - loss: 0.2208 - acc: 0.9291 - val_loss: 0.3952 - val_acc: 0.9142\n",
            "Epoch 96/250\n",
            "37/37 [==============================] - 5s 124ms/step - loss: 0.2020 - acc: 0.9383 - val_loss: 0.6986 - val_acc: 0.8545\n",
            "Epoch 97/250\n",
            "37/37 [==============================] - 5s 126ms/step - loss: 0.1777 - acc: 0.9392 - val_loss: 0.4651 - val_acc: 0.9216\n",
            "Epoch 98/250\n",
            "37/37 [==============================] - 5s 124ms/step - loss: 0.2137 - acc: 0.9409 - val_loss: 0.5571 - val_acc: 0.9067\n",
            "Epoch 99/250\n",
            "37/37 [==============================] - 5s 127ms/step - loss: 0.1897 - acc: 0.9358 - val_loss: 0.3060 - val_acc: 0.9515\n",
            "Epoch 100/250\n",
            "37/37 [==============================] - 4s 121ms/step - loss: 0.2086 - acc: 0.9434 - val_loss: 0.3147 - val_acc: 0.9515\n",
            "Epoch 101/250\n",
            "37/37 [==============================] - 5s 126ms/step - loss: 0.2031 - acc: 0.9341 - val_loss: 0.3267 - val_acc: 0.8958\n",
            "Epoch 102/250\n",
            "37/37 [==============================] - 5s 124ms/step - loss: 0.1468 - acc: 0.9527 - val_loss: 0.4410 - val_acc: 0.8955\n",
            "Epoch 103/250\n",
            "37/37 [==============================] - 5s 126ms/step - loss: 0.2455 - acc: 0.9299 - val_loss: 0.6127 - val_acc: 0.9179\n",
            "Epoch 104/250\n",
            "37/37 [==============================] - 5s 126ms/step - loss: 0.2278 - acc: 0.9291 - val_loss: 0.3700 - val_acc: 0.9179\n",
            "Epoch 105/250\n",
            "37/37 [==============================] - 5s 123ms/step - loss: 0.2318 - acc: 0.9257 - val_loss: 0.3173 - val_acc: 0.9478\n",
            "Epoch 106/250\n",
            "37/37 [==============================] - 4s 121ms/step - loss: 0.2897 - acc: 0.9265 - val_loss: 0.3938 - val_acc: 0.9254\n",
            "Epoch 107/250\n",
            "37/37 [==============================] - 5s 126ms/step - loss: 0.1824 - acc: 0.9367 - val_loss: 0.3490 - val_acc: 0.9328\n",
            "Epoch 108/250\n",
            "37/37 [==============================] - 5s 126ms/step - loss: 0.2281 - acc: 0.9367 - val_loss: 0.3416 - val_acc: 0.9440\n",
            "Epoch 109/250\n",
            "37/37 [==============================] - 5s 124ms/step - loss: 0.1995 - acc: 0.9392 - val_loss: 0.4087 - val_acc: 0.9291\n",
            "Epoch 110/250\n",
            "37/37 [==============================] - 5s 123ms/step - loss: 0.1887 - acc: 0.9417 - val_loss: 0.5263 - val_acc: 0.9254\n",
            "Epoch 111/250\n",
            "37/37 [==============================] - 5s 125ms/step - loss: 0.1905 - acc: 0.9417 - val_loss: 0.3329 - val_acc: 0.9340\n",
            "Epoch 112/250\n",
            "37/37 [==============================] - 5s 128ms/step - loss: 0.1973 - acc: 0.9442 - val_loss: 0.2396 - val_acc: 0.9478\n",
            "Epoch 113/250\n",
            "37/37 [==============================] - 5s 124ms/step - loss: 0.1719 - acc: 0.9443 - val_loss: 0.3597 - val_acc: 0.9067\n",
            "Epoch 114/250\n",
            "37/37 [==============================] - 5s 123ms/step - loss: 0.1765 - acc: 0.9442 - val_loss: 0.4820 - val_acc: 0.8806\n",
            "Epoch 115/250\n",
            "37/37 [==============================] - 5s 122ms/step - loss: 0.2112 - acc: 0.9333 - val_loss: 0.4452 - val_acc: 0.9067\n",
            "Epoch 116/250\n",
            "37/37 [==============================] - 5s 127ms/step - loss: 0.2003 - acc: 0.9434 - val_loss: 0.4004 - val_acc: 0.9254\n",
            "Epoch 117/250\n",
            "37/37 [==============================] - 5s 126ms/step - loss: 0.2416 - acc: 0.9451 - val_loss: 0.4644 - val_acc: 0.9067\n",
            "Epoch 118/250\n",
            "37/37 [==============================] - 5s 124ms/step - loss: 0.1848 - acc: 0.9459 - val_loss: 0.2842 - val_acc: 0.9403\n",
            "Epoch 119/250\n",
            "37/37 [==============================] - 5s 126ms/step - loss: 0.2310 - acc: 0.9299 - val_loss: 0.3418 - val_acc: 0.9328\n",
            "Epoch 120/250\n",
            "37/37 [==============================] - 5s 124ms/step - loss: 0.1856 - acc: 0.9426 - val_loss: 0.4643 - val_acc: 0.9030\n",
            "Epoch 121/250\n",
            "37/37 [==============================] - 5s 126ms/step - loss: 0.2017 - acc: 0.9443 - val_loss: 0.4963 - val_acc: 0.9236\n",
            "Epoch 122/250\n",
            "37/37 [==============================] - 5s 128ms/step - loss: 0.1561 - acc: 0.9510 - val_loss: 0.3169 - val_acc: 0.9254\n",
            "Epoch 123/250\n",
            "37/37 [==============================] - 5s 123ms/step - loss: 0.2587 - acc: 0.9324 - val_loss: 0.2342 - val_acc: 0.9590\n",
            "Epoch 124/250\n",
            "37/37 [==============================] - 5s 127ms/step - loss: 0.2387 - acc: 0.9434 - val_loss: 0.3785 - val_acc: 0.9366\n",
            "Epoch 125/250\n",
            "37/37 [==============================] - 5s 123ms/step - loss: 0.1695 - acc: 0.9544 - val_loss: 0.3167 - val_acc: 0.9403\n",
            "Epoch 126/250\n",
            "37/37 [==============================] - 5s 126ms/step - loss: 0.2074 - acc: 0.9299 - val_loss: 0.3325 - val_acc: 0.9254\n",
            "Epoch 127/250\n",
            "37/37 [==============================] - 5s 129ms/step - loss: 0.2246 - acc: 0.9393 - val_loss: 0.6835 - val_acc: 0.9030\n",
            "Epoch 128/250\n",
            "37/37 [==============================] - 5s 126ms/step - loss: 0.1683 - acc: 0.9519 - val_loss: 0.2554 - val_acc: 0.9515\n",
            "Epoch 129/250\n",
            "37/37 [==============================] - 5s 124ms/step - loss: 0.3775 - acc: 0.9349 - val_loss: 0.3678 - val_acc: 0.9440\n",
            "Epoch 130/250\n",
            "37/37 [==============================] - 5s 124ms/step - loss: 0.2004 - acc: 0.9409 - val_loss: 0.3578 - val_acc: 0.9216\n",
            "Epoch 131/250\n",
            "37/37 [==============================] - 5s 127ms/step - loss: 0.2089 - acc: 0.9358 - val_loss: 0.3161 - val_acc: 0.9479\n",
            "Epoch 132/250\n",
            "37/37 [==============================] - 5s 124ms/step - loss: 0.1910 - acc: 0.9425 - val_loss: 0.1606 - val_acc: 0.9813\n",
            "Epoch 133/250\n",
            "37/37 [==============================] - 5s 126ms/step - loss: 0.1340 - acc: 0.9493 - val_loss: 0.3119 - val_acc: 0.9366\n",
            "Epoch 134/250\n",
            "37/37 [==============================] - 5s 124ms/step - loss: 0.2421 - acc: 0.9409 - val_loss: 0.5351 - val_acc: 0.8918\n",
            "Epoch 135/250\n",
            "37/37 [==============================] - 5s 127ms/step - loss: 0.2593 - acc: 0.9324 - val_loss: 0.4046 - val_acc: 0.9142\n",
            "Epoch 136/250\n",
            "37/37 [==============================] - 5s 123ms/step - loss: 0.2408 - acc: 0.9409 - val_loss: 0.4533 - val_acc: 0.9216\n",
            "Epoch 137/250\n",
            "37/37 [==============================] - 5s 124ms/step - loss: 0.3836 - acc: 0.9248 - val_loss: 0.3366 - val_acc: 0.9478\n",
            "Epoch 138/250\n",
            "37/37 [==============================] - 5s 126ms/step - loss: 0.1316 - acc: 0.9578 - val_loss: 0.4602 - val_acc: 0.9440\n",
            "Epoch 139/250\n",
            "37/37 [==============================] - 5s 126ms/step - loss: 0.2738 - acc: 0.9341 - val_loss: 0.3043 - val_acc: 0.9515\n",
            "Epoch 140/250\n",
            "37/37 [==============================] - 5s 124ms/step - loss: 0.1850 - acc: 0.9350 - val_loss: 0.3066 - val_acc: 0.9440\n",
            "Epoch 141/250\n",
            "37/37 [==============================] - 5s 126ms/step - loss: 0.2066 - acc: 0.9510 - val_loss: 0.3694 - val_acc: 0.9375\n",
            "Epoch 142/250\n",
            "37/37 [==============================] - 5s 128ms/step - loss: 0.1636 - acc: 0.9561 - val_loss: 0.3363 - val_acc: 0.9440\n",
            "Epoch 143/250\n",
            "37/37 [==============================] - 5s 127ms/step - loss: 0.1781 - acc: 0.9536 - val_loss: 0.2274 - val_acc: 0.9478\n",
            "Epoch 144/250\n",
            "37/37 [==============================] - 5s 123ms/step - loss: 0.2037 - acc: 0.9493 - val_loss: 0.4959 - val_acc: 0.9403\n",
            "Epoch 145/250\n",
            "37/37 [==============================] - 5s 124ms/step - loss: 0.2220 - acc: 0.9350 - val_loss: 0.4668 - val_acc: 0.9328\n",
            "Epoch 146/250\n",
            "37/37 [==============================] - 5s 127ms/step - loss: 0.2381 - acc: 0.9451 - val_loss: 0.4577 - val_acc: 0.9328\n",
            "Epoch 147/250\n",
            "37/37 [==============================] - 5s 127ms/step - loss: 0.2847 - acc: 0.9333 - val_loss: 0.3640 - val_acc: 0.8955\n",
            "Epoch 148/250\n",
            "37/37 [==============================] - 5s 129ms/step - loss: 0.1987 - acc: 0.9510 - val_loss: 0.4426 - val_acc: 0.9254\n",
            "Epoch 149/250\n",
            "37/37 [==============================] - 5s 124ms/step - loss: 0.1807 - acc: 0.9561 - val_loss: 0.3386 - val_acc: 0.9291\n",
            "Epoch 150/250\n",
            "37/37 [==============================] - 5s 123ms/step - loss: 0.1961 - acc: 0.9426 - val_loss: 0.4060 - val_acc: 0.9291\n",
            "Epoch 151/250\n",
            "37/37 [==============================] - 5s 126ms/step - loss: 0.2107 - acc: 0.9451 - val_loss: 0.3394 - val_acc: 0.9444\n",
            "Epoch 152/250\n",
            "37/37 [==============================] - 5s 126ms/step - loss: 0.1652 - acc: 0.9485 - val_loss: 0.1883 - val_acc: 0.9664\n",
            "Epoch 153/250\n",
            "37/37 [==============================] - 5s 125ms/step - loss: 0.2346 - acc: 0.9401 - val_loss: 0.2182 - val_acc: 0.9552\n",
            "Epoch 154/250\n",
            "37/37 [==============================] - 5s 128ms/step - loss: 0.2924 - acc: 0.9275 - val_loss: 0.3739 - val_acc: 0.9440\n",
            "Epoch 155/250\n",
            "37/37 [==============================] - 5s 124ms/step - loss: 0.1950 - acc: 0.9392 - val_loss: 0.3764 - val_acc: 0.9403\n",
            "Epoch 156/250\n",
            "37/37 [==============================] - 5s 126ms/step - loss: 0.2384 - acc: 0.9333 - val_loss: 0.2959 - val_acc: 0.9030\n",
            "Epoch 157/250\n",
            "37/37 [==============================] - 5s 126ms/step - loss: 0.1770 - acc: 0.9485 - val_loss: 0.4217 - val_acc: 0.9254\n",
            "Epoch 158/250\n",
            "37/37 [==============================] - 5s 124ms/step - loss: 0.1819 - acc: 0.9552 - val_loss: 0.3432 - val_acc: 0.9216\n",
            "Epoch 159/250\n",
            "37/37 [==============================] - 5s 126ms/step - loss: 0.1809 - acc: 0.9502 - val_loss: 0.3934 - val_acc: 0.9328\n",
            "Epoch 160/250\n",
            "37/37 [==============================] - 5s 123ms/step - loss: 0.1772 - acc: 0.9485 - val_loss: 0.3548 - val_acc: 0.9179\n",
            "Epoch 161/250\n",
            "37/37 [==============================] - 5s 126ms/step - loss: 0.2261 - acc: 0.9409 - val_loss: 0.5806 - val_acc: 0.8993\n",
            "Epoch 162/250\n",
            "37/37 [==============================] - 5s 128ms/step - loss: 0.2036 - acc: 0.9485 - val_loss: 0.6762 - val_acc: 0.9179\n",
            "Epoch 163/250\n",
            "37/37 [==============================] - 5s 125ms/step - loss: 0.2090 - acc: 0.9442 - val_loss: 0.2848 - val_acc: 0.9403\n",
            "Epoch 164/250\n",
            "37/37 [==============================] - 5s 129ms/step - loss: 0.1881 - acc: 0.9544 - val_loss: 0.3732 - val_acc: 0.9478\n",
            "Epoch 165/250\n",
            "37/37 [==============================] - 5s 126ms/step - loss: 0.3251 - acc: 0.9299 - val_loss: 0.3130 - val_acc: 0.9478\n",
            "Epoch 166/250\n",
            "37/37 [==============================] - 4s 121ms/step - loss: 0.1868 - acc: 0.9612 - val_loss: 0.2630 - val_acc: 0.9254\n",
            "Epoch 167/250\n",
            "37/37 [==============================] - 5s 124ms/step - loss: 0.2259 - acc: 0.9443 - val_loss: 0.3671 - val_acc: 0.9328\n",
            "Epoch 168/250\n",
            "37/37 [==============================] - 5s 124ms/step - loss: 0.1969 - acc: 0.9578 - val_loss: 0.2804 - val_acc: 0.9590\n",
            "Epoch 169/250\n",
            "37/37 [==============================] - 5s 126ms/step - loss: 0.1706 - acc: 0.9535 - val_loss: 0.3147 - val_acc: 0.9552\n",
            "Epoch 170/250\n",
            "37/37 [==============================] - 5s 124ms/step - loss: 0.2417 - acc: 0.9375 - val_loss: 0.2938 - val_acc: 0.9478\n",
            "Epoch 171/250\n",
            "37/37 [==============================] - 5s 126ms/step - loss: 0.1673 - acc: 0.9493 - val_loss: 0.3621 - val_acc: 0.9271\n",
            "Epoch 172/250\n",
            "37/37 [==============================] - 5s 128ms/step - loss: 0.2213 - acc: 0.9451 - val_loss: 0.2397 - val_acc: 0.9552\n",
            "Epoch 173/250\n",
            "37/37 [==============================] - 5s 124ms/step - loss: 0.2195 - acc: 0.9392 - val_loss: 0.7255 - val_acc: 0.9067\n",
            "Epoch 174/250\n",
            "37/37 [==============================] - 5s 126ms/step - loss: 0.1888 - acc: 0.9426 - val_loss: 0.3318 - val_acc: 0.9142\n",
            "Epoch 175/250\n",
            "37/37 [==============================] - 5s 126ms/step - loss: 0.2136 - acc: 0.9316 - val_loss: 0.3965 - val_acc: 0.9291\n",
            "Epoch 176/250\n",
            "37/37 [==============================] - 4s 121ms/step - loss: 0.2580 - acc: 0.9391 - val_loss: 0.4778 - val_acc: 0.9254\n",
            "Epoch 177/250\n",
            "37/37 [==============================] - 5s 126ms/step - loss: 0.2096 - acc: 0.9468 - val_loss: 0.3526 - val_acc: 0.9440\n",
            "Epoch 178/250\n",
            "37/37 [==============================] - 5s 124ms/step - loss: 0.1207 - acc: 0.9645 - val_loss: 0.5003 - val_acc: 0.9328\n",
            "Epoch 179/250\n",
            "37/37 [==============================] - 5s 126ms/step - loss: 0.1864 - acc: 0.9485 - val_loss: 0.3793 - val_acc: 0.9515\n",
            "Epoch 180/250\n",
            "37/37 [==============================] - 5s 124ms/step - loss: 0.2090 - acc: 0.9400 - val_loss: 0.6744 - val_acc: 0.9104\n",
            "Epoch 181/250\n",
            "37/37 [==============================] - 5s 125ms/step - loss: 0.2495 - acc: 0.9502 - val_loss: 1.0022 - val_acc: 0.8403\n",
            "Epoch 182/250\n",
            "37/37 [==============================] - 5s 125ms/step - loss: 0.2388 - acc: 0.9417 - val_loss: 0.2960 - val_acc: 0.9104\n",
            "Epoch 183/250\n",
            "37/37 [==============================] - 5s 127ms/step - loss: 0.2017 - acc: 0.9468 - val_loss: 0.3816 - val_acc: 0.9403\n",
            "Epoch 184/250\n",
            "37/37 [==============================] - 4s 121ms/step - loss: 0.2430 - acc: 0.9417 - val_loss: 0.9343 - val_acc: 0.8657\n",
            "Epoch 185/250\n",
            "37/37 [==============================] - 5s 126ms/step - loss: 0.2173 - acc: 0.9459 - val_loss: 0.4890 - val_acc: 0.8993\n",
            "Epoch 186/250\n",
            "37/37 [==============================] - 5s 124ms/step - loss: 0.2029 - acc: 0.9628 - val_loss: 0.4108 - val_acc: 0.9179\n",
            "Epoch 187/250\n",
            "37/37 [==============================] - 5s 124ms/step - loss: 0.2387 - acc: 0.9451 - val_loss: 0.6371 - val_acc: 0.8993\n",
            "Epoch 188/250\n",
            "37/37 [==============================] - 5s 124ms/step - loss: 0.1901 - acc: 0.9493 - val_loss: 0.3012 - val_acc: 0.9440\n",
            "Epoch 189/250\n",
            "37/37 [==============================] - 5s 126ms/step - loss: 0.1642 - acc: 0.9527 - val_loss: 0.4173 - val_acc: 0.9328\n",
            "Epoch 190/250\n",
            "37/37 [==============================] - 4s 121ms/step - loss: 0.1901 - acc: 0.9561 - val_loss: 0.5674 - val_acc: 0.9254\n",
            "Epoch 191/250\n",
            "37/37 [==============================] - 5s 127ms/step - loss: 0.2323 - acc: 0.9443 - val_loss: 0.5005 - val_acc: 0.9167\n",
            "Epoch 192/250\n",
            "37/37 [==============================] - 5s 129ms/step - loss: 0.2418 - acc: 0.9476 - val_loss: 0.9278 - val_acc: 0.9067\n",
            "Epoch 193/250\n",
            "37/37 [==============================] - 5s 130ms/step - loss: 0.3388 - acc: 0.9392 - val_loss: 0.3306 - val_acc: 0.9403\n",
            "Epoch 194/250\n",
            "37/37 [==============================] - 5s 126ms/step - loss: 0.2619 - acc: 0.9442 - val_loss: 0.6377 - val_acc: 0.9067\n",
            "Epoch 195/250\n",
            "37/37 [==============================] - 5s 126ms/step - loss: 0.2139 - acc: 0.9502 - val_loss: 0.4968 - val_acc: 0.9291\n",
            "Epoch 196/250\n",
            "37/37 [==============================] - 5s 123ms/step - loss: 0.2122 - acc: 0.9510 - val_loss: 0.4059 - val_acc: 0.9179\n",
            "Epoch 197/250\n",
            "37/37 [==============================] - 5s 126ms/step - loss: 0.6111 - acc: 0.9071 - val_loss: 0.5920 - val_acc: 0.9104\n",
            "Epoch 198/250\n",
            "37/37 [==============================] - 5s 126ms/step - loss: 0.2222 - acc: 0.9468 - val_loss: 0.5392 - val_acc: 0.9104\n",
            "Epoch 199/250\n",
            "37/37 [==============================] - 5s 126ms/step - loss: 0.3782 - acc: 0.9307 - val_loss: 0.3466 - val_acc: 0.9403\n",
            "Epoch 200/250\n",
            "37/37 [==============================] - 5s 122ms/step - loss: 0.1479 - acc: 0.9578 - val_loss: 0.6246 - val_acc: 0.8881\n",
            "Epoch 201/250\n",
            "37/37 [==============================] - 5s 126ms/step - loss: 0.1937 - acc: 0.9468 - val_loss: 1.3162 - val_acc: 0.8403\n",
            "Epoch 202/250\n",
            "37/37 [==============================] - 5s 127ms/step - loss: 0.1944 - acc: 0.9451 - val_loss: 0.5490 - val_acc: 0.9104\n",
            "Epoch 203/250\n",
            "37/37 [==============================] - 5s 127ms/step - loss: 0.1649 - acc: 0.9552 - val_loss: 0.2136 - val_acc: 0.9552\n",
            "Epoch 204/250\n",
            "37/37 [==============================] - 5s 123ms/step - loss: 0.1723 - acc: 0.9544 - val_loss: 0.4147 - val_acc: 0.9328\n",
            "Epoch 205/250\n",
            "37/37 [==============================] - 5s 124ms/step - loss: 0.2758 - acc: 0.9308 - val_loss: 0.3276 - val_acc: 0.9515\n",
            "Epoch 206/250\n",
            "37/37 [==============================] - 5s 127ms/step - loss: 0.1879 - acc: 0.9578 - val_loss: 0.3785 - val_acc: 0.9552\n",
            "Epoch 207/250\n",
            "37/37 [==============================] - 5s 126ms/step - loss: 0.1290 - acc: 0.9637 - val_loss: 0.5829 - val_acc: 0.8955\n",
            "Epoch 208/250\n",
            "37/37 [==============================] - 5s 124ms/step - loss: 0.1995 - acc: 0.9452 - val_loss: 1.3720 - val_acc: 0.8657\n",
            "Epoch 209/250\n",
            "37/37 [==============================] - 5s 126ms/step - loss: 0.2461 - acc: 0.9527 - val_loss: 0.4006 - val_acc: 0.9403\n",
            "Epoch 210/250\n",
            "37/37 [==============================] - 5s 125ms/step - loss: 0.2325 - acc: 0.9443 - val_loss: 0.4319 - val_acc: 0.9254\n",
            "Epoch 211/250\n",
            "37/37 [==============================] - 5s 124ms/step - loss: 0.2459 - acc: 0.9493 - val_loss: 0.4340 - val_acc: 0.9410\n",
            "Epoch 212/250\n",
            "37/37 [==============================] - 5s 130ms/step - loss: 0.2007 - acc: 0.9502 - val_loss: 0.5429 - val_acc: 0.8881\n",
            "Epoch 213/250\n",
            "37/37 [==============================] - 5s 124ms/step - loss: 0.2474 - acc: 0.9401 - val_loss: 0.6485 - val_acc: 0.8993\n",
            "Epoch 214/250\n",
            "37/37 [==============================] - 5s 126ms/step - loss: 0.4167 - acc: 0.9324 - val_loss: 0.4947 - val_acc: 0.9291\n",
            "Epoch 215/250\n",
            "37/37 [==============================] - 5s 124ms/step - loss: 0.1703 - acc: 0.9687 - val_loss: 0.5242 - val_acc: 0.9179\n",
            "Epoch 216/250\n",
            "37/37 [==============================] - 5s 126ms/step - loss: 0.2054 - acc: 0.9510 - val_loss: 0.2672 - val_acc: 0.9403\n",
            "Epoch 217/250\n",
            "37/37 [==============================] - 5s 127ms/step - loss: 0.2250 - acc: 0.9502 - val_loss: 0.6891 - val_acc: 0.9216\n",
            "Epoch 218/250\n",
            "37/37 [==============================] - 5s 126ms/step - loss: 0.2617 - acc: 0.9409 - val_loss: 0.3142 - val_acc: 0.9291\n",
            "Epoch 219/250\n",
            "37/37 [==============================] - 5s 124ms/step - loss: 0.1552 - acc: 0.9527 - val_loss: 0.6080 - val_acc: 0.8955\n",
            "Epoch 220/250\n",
            "37/37 [==============================] - 5s 124ms/step - loss: 0.2936 - acc: 0.9307 - val_loss: 0.3639 - val_acc: 0.9291\n",
            "Epoch 221/250\n",
            "37/37 [==============================] - 5s 126ms/step - loss: 0.1941 - acc: 0.9485 - val_loss: 0.3891 - val_acc: 0.9271\n",
            "Epoch 222/250\n",
            "37/37 [==============================] - 5s 124ms/step - loss: 0.1620 - acc: 0.9527 - val_loss: 0.5741 - val_acc: 0.9179\n",
            "Epoch 223/250\n",
            "37/37 [==============================] - 5s 126ms/step - loss: 0.2669 - acc: 0.9350 - val_loss: 0.7558 - val_acc: 0.9067\n",
            "Epoch 224/250\n",
            "37/37 [==============================] - 5s 127ms/step - loss: 0.2142 - acc: 0.9451 - val_loss: 0.7883 - val_acc: 0.9104\n",
            "Epoch 225/250\n",
            "37/37 [==============================] - 5s 124ms/step - loss: 0.3041 - acc: 0.9375 - val_loss: 1.0991 - val_acc: 0.8657\n",
            "Epoch 226/250\n",
            "37/37 [==============================] - 5s 126ms/step - loss: 0.2214 - acc: 0.9468 - val_loss: 0.5809 - val_acc: 0.9142\n",
            "Epoch 227/250\n",
            "37/37 [==============================] - 5s 124ms/step - loss: 0.3171 - acc: 0.9451 - val_loss: 0.4518 - val_acc: 0.9254\n",
            "Epoch 228/250\n",
            "37/37 [==============================] - 5s 127ms/step - loss: 0.2874 - acc: 0.9570 - val_loss: 0.6201 - val_acc: 0.9254\n",
            "Epoch 229/250\n",
            "37/37 [==============================] - 5s 123ms/step - loss: 0.1968 - acc: 0.9459 - val_loss: 0.5513 - val_acc: 0.9179\n",
            "Epoch 230/250\n",
            "37/37 [==============================] - 5s 126ms/step - loss: 0.2304 - acc: 0.9425 - val_loss: 0.7583 - val_acc: 0.9179\n",
            "Epoch 231/250\n",
            "37/37 [==============================] - 5s 126ms/step - loss: 0.2423 - acc: 0.9544 - val_loss: 0.5754 - val_acc: 0.9306\n",
            "Epoch 232/250\n",
            "37/37 [==============================] - 5s 130ms/step - loss: 0.2116 - acc: 0.9527 - val_loss: 0.5598 - val_acc: 0.9216\n",
            "Epoch 233/250\n",
            "37/37 [==============================] - 5s 124ms/step - loss: 0.2144 - acc: 0.9502 - val_loss: 0.7871 - val_acc: 0.9030\n",
            "Epoch 234/250\n",
            "37/37 [==============================] - 5s 126ms/step - loss: 0.1573 - acc: 0.9595 - val_loss: 1.0399 - val_acc: 0.8769\n",
            "Epoch 235/250\n",
            "37/37 [==============================] - 5s 124ms/step - loss: 0.2229 - acc: 0.9451 - val_loss: 0.3861 - val_acc: 0.9440\n",
            "Epoch 236/250\n",
            "37/37 [==============================] - 5s 123ms/step - loss: 0.1749 - acc: 0.9654 - val_loss: 0.4030 - val_acc: 0.9478\n",
            "Epoch 237/250\n",
            "37/37 [==============================] - 5s 126ms/step - loss: 0.1304 - acc: 0.9603 - val_loss: 0.5766 - val_acc: 0.9403\n",
            "Epoch 238/250\n",
            "37/37 [==============================] - 5s 127ms/step - loss: 0.2292 - acc: 0.9434 - val_loss: 0.7760 - val_acc: 0.9216\n",
            "Epoch 239/250\n",
            "37/37 [==============================] - 5s 126ms/step - loss: 0.2294 - acc: 0.9578 - val_loss: 0.4455 - val_acc: 0.9142\n",
            "Epoch 240/250\n",
            "37/37 [==============================] - 5s 122ms/step - loss: 0.2012 - acc: 0.9569 - val_loss: 0.5728 - val_acc: 0.9216\n",
            "Epoch 241/250\n",
            "37/37 [==============================] - 5s 128ms/step - loss: 0.2759 - acc: 0.9358 - val_loss: 0.4735 - val_acc: 0.9201\n",
            "Epoch 242/250\n",
            "37/37 [==============================] - 5s 129ms/step - loss: 0.2684 - acc: 0.9485 - val_loss: 0.2915 - val_acc: 0.9627\n",
            "Epoch 243/250\n",
            "37/37 [==============================] - 5s 126ms/step - loss: 0.3192 - acc: 0.9249 - val_loss: 0.9774 - val_acc: 0.8022\n",
            "Epoch 244/250\n",
            "37/37 [==============================] - 5s 127ms/step - loss: 0.2851 - acc: 0.9451 - val_loss: 0.3780 - val_acc: 0.9366\n",
            "Epoch 245/250\n",
            "37/37 [==============================] - 5s 124ms/step - loss: 0.1814 - acc: 0.9519 - val_loss: 0.4622 - val_acc: 0.9030\n",
            "Epoch 246/250\n",
            "37/37 [==============================] - 5s 123ms/step - loss: 0.2766 - acc: 0.9316 - val_loss: 0.9755 - val_acc: 0.8022\n",
            "Epoch 247/250\n",
            "37/37 [==============================] - 5s 124ms/step - loss: 0.2809 - acc: 0.9333 - val_loss: 0.4619 - val_acc: 0.9366\n",
            "Epoch 248/250\n",
            "37/37 [==============================] - 5s 129ms/step - loss: 0.2672 - acc: 0.9375 - val_loss: 0.3953 - val_acc: 0.9291\n",
            "Epoch 249/250\n",
            "37/37 [==============================] - 5s 123ms/step - loss: 0.2036 - acc: 0.9434 - val_loss: 0.7662 - val_acc: 0.8993\n",
            "Epoch 250/250\n",
            "37/37 [==============================] - 5s 123ms/step - loss: 0.2339 - acc: 0.9502 - val_loss: 0.8852 - val_acc: 0.8918\n",
            "CPU times: user 24min 6s, sys: 1min 48s, total: 25min 54s\n",
            "Wall time: 19min 20s\n"
          ],
          "name": "stdout"
        }
      ]
    },
    {
      "cell_type": "code",
      "metadata": {
        "id": "9gU1BDWRUw7N",
        "colab_type": "code",
        "outputId": "59ee7465-ec57-4577-9127-9cd1be3bda0d",
        "colab": {
          "base_uri": "https://localhost:8080/",
          "height": 51
        }
      },
      "source": [
        "# Evaluate the model on validation and test set\n",
        "print(model.evaluate_generator(valid_generator))\n",
        "model.evaluate_generator(test_generator)"
      ],
      "execution_count": 51,
      "outputs": [
        {
          "output_type": "stream",
          "text": [
            "[0.8309193852904718, 0.9]\n"
          ],
          "name": "stdout"
        },
        {
          "output_type": "execute_result",
          "data": {
            "text/plain": [
              "[0.7641155040264129, 0.8599999904632568]"
            ]
          },
          "metadata": {
            "tags": []
          },
          "execution_count": 51
        }
      ]
    },
    {
      "cell_type": "code",
      "metadata": {
        "id": "ZjRqaTYkoese",
        "colab_type": "code",
        "colab": {
          "base_uri": "https://localhost:8080/",
          "height": 561
        },
        "outputId": "cdab04a9-ef57-4299-a6cb-8319f6005a48"
      },
      "source": [
        "# Load the checkpoint in to a new model to compare\n",
        "new_model = keras.models.load_model('weights_cap2_3.hdf5')\n",
        "new_model.summary()"
      ],
      "execution_count": 52,
      "outputs": [
        {
          "output_type": "stream",
          "text": [
            "Model: \"sequential_3\"\n",
            "_________________________________________________________________\n",
            "Layer (type)                 Output Shape              Param #   \n",
            "=================================================================\n",
            "conv2d_9 (Conv2D)            (None, 100, 100, 32)      896       \n",
            "_________________________________________________________________\n",
            "conv2d_10 (Conv2D)           (None, 98, 98, 32)        9248      \n",
            "_________________________________________________________________\n",
            "max_pooling2d_5 (MaxPooling2 (None, 49, 49, 32)        0         \n",
            "_________________________________________________________________\n",
            "dropout_7 (Dropout)          (None, 49, 49, 32)        0         \n",
            "_________________________________________________________________\n",
            "conv2d_11 (Conv2D)           (None, 49, 49, 64)        18496     \n",
            "_________________________________________________________________\n",
            "conv2d_12 (Conv2D)           (None, 47, 47, 64)        36928     \n",
            "_________________________________________________________________\n",
            "max_pooling2d_6 (MaxPooling2 (None, 23, 23, 64)        0         \n",
            "_________________________________________________________________\n",
            "dropout_8 (Dropout)          (None, 23, 23, 64)        0         \n",
            "_________________________________________________________________\n",
            "flatten_3 (Flatten)          (None, 33856)             0         \n",
            "_________________________________________________________________\n",
            "dense_5 (Dense)              (None, 128)               4333696   \n",
            "_________________________________________________________________\n",
            "dropout_9 (Dropout)          (None, 128)               0         \n",
            "_________________________________________________________________\n",
            "dense_6 (Dense)              (None, 5)                 645       \n",
            "=================================================================\n",
            "Total params: 4,399,909\n",
            "Trainable params: 4,399,909\n",
            "Non-trainable params: 0\n",
            "_________________________________________________________________\n"
          ],
          "name": "stdout"
        }
      ]
    },
    {
      "cell_type": "code",
      "metadata": {
        "id": "xIHwhKMNVX4B",
        "colab_type": "code",
        "outputId": "279d527b-0419-4c54-b9ab-2f80259bce92",
        "colab": {
          "base_uri": "https://localhost:8080/",
          "height": 51
        }
      },
      "source": [
        "# Evaluate the new model on validation and test set\n",
        "print(new_model.evaluate_generator(valid_generator))\n",
        "print(new_model.evaluate_generator(test_generator))"
      ],
      "execution_count": 53,
      "outputs": [
        {
          "output_type": "stream",
          "text": [
            "[0.2686952355752389, 0.97]\n",
            "[0.2596906507015228, 0.9000000023841858]\n"
          ],
          "name": "stdout"
        }
      ]
    },
    {
      "cell_type": "code",
      "metadata": {
        "id": "lKG_HBGfprEd",
        "colab_type": "code",
        "outputId": "a0ad8981-953f-4ba8-9fad-27330e4e5e03",
        "colab": {
          "base_uri": "https://localhost:8080/",
          "height": 119
        }
      },
      "source": [
        "# Get the confusion matrix\n",
        "from sklearn.metrics import classification_report, confusion_matrix\n",
        "test_generator.reset()\n",
        "Y_pred = new_model.predict_generator(test_generator)\n",
        "y_pred = np.argmax(Y_pred, axis=1)\n",
        "print('Confusion Matrix')\n",
        "print(confusion_matrix(test_generator.classes, y_pred))\n"
      ],
      "execution_count": 54,
      "outputs": [
        {
          "output_type": "stream",
          "text": [
            "Confusion Matrix\n",
            "[[ 9  0  0  0  1]\n",
            " [ 0 10  0  0  0]\n",
            " [ 0  1  8  1  0]\n",
            " [ 1  0  0  9  0]\n",
            " [ 1  0  0  0  9]]\n"
          ],
          "name": "stdout"
        }
      ]
    },
    {
      "cell_type": "code",
      "metadata": {
        "id": "7sZOUM9rrfvw",
        "colab_type": "code",
        "outputId": "7edfdf3b-7eeb-4c75-d35c-2bd1bf7bb13e",
        "colab": {
          "base_uri": "https://localhost:8080/",
          "height": 238
        }
      },
      "source": [
        "# Get classification report\n",
        "print('Classification Report')\n",
        "target_names = ['Apple', 'Blackberry', 'Green Grapes', 'Kiwi', 'Strawberry']\n",
        "print(classification_report(test_generator.classes, y_pred, target_names=target_names))"
      ],
      "execution_count": 55,
      "outputs": [
        {
          "output_type": "stream",
          "text": [
            "Classification Report\n",
            "              precision    recall  f1-score   support\n",
            "\n",
            "       Apple       0.82      0.90      0.86        10\n",
            "  Blackberry       0.91      1.00      0.95        10\n",
            "Green Grapes       1.00      0.80      0.89        10\n",
            "        Kiwi       0.90      0.90      0.90        10\n",
            "  Strawberry       0.90      0.90      0.90        10\n",
            "\n",
            "    accuracy                           0.90        50\n",
            "   macro avg       0.91      0.90      0.90        50\n",
            "weighted avg       0.91      0.90      0.90        50\n",
            "\n"
          ],
          "name": "stdout"
        }
      ]
    },
    {
      "cell_type": "code",
      "metadata": {
        "id": "KrVNy5CM3IPI",
        "colab_type": "code",
        "colab": {}
      },
      "source": [
        ""
      ],
      "execution_count": 0,
      "outputs": []
    }
  ]
}